{
  "metadata": {
    "kernelspec": {
      "name": "python3",
      "display_name": "Python 3",
      "language": "python"
    },
    "language_info": {
      "name": "python",
      "version": "3.11.11",
      "mimetype": "text/x-python",
      "codemirror_mode": {
        "name": "ipython",
        "version": 3
      },
      "pygments_lexer": "ipython3",
      "nbconvert_exporter": "python",
      "file_extension": ".py"
    },
    "kaggle": {
      "accelerator": "gpu",
      "dataSources": [
        {
          "sourceId": 11382922,
          "sourceType": "datasetVersion",
          "datasetId": 7127430
        }
      ],
      "dockerImageVersionId": 31011,
      "isInternetEnabled": true,
      "language": "python",
      "sourceType": "notebook",
      "isGpuEnabled": true
    },
    "colab": {
      "name": "Intrusion  XGBoost Model",
      "provenance": []
    },
    "widgets": {
      "application/vnd.jupyter.widget-state+json": {
        "a40d7878cf9a4c83baa4b2c98fbaa5d6": {
          "model_module": "@jupyter-widgets/controls",
          "model_name": "VBoxModel",
          "model_module_version": "1.5.0",
          "state": {
            "_dom_classes": [],
            "_model_module": "@jupyter-widgets/controls",
            "_model_module_version": "1.5.0",
            "_model_name": "VBoxModel",
            "_view_count": null,
            "_view_module": "@jupyter-widgets/controls",
            "_view_module_version": "1.5.0",
            "_view_name": "VBoxView",
            "box_style": "",
            "children": [
              "IPY_MODEL_a0b218f667914feaab706550ba8f58ae"
            ],
            "layout": "IPY_MODEL_fd6e29f21fdd4ae98f7dbdfc2de97c70"
          }
        },
        "64be97517914471d9c92ba2884f6a0fa": {
          "model_module": "@jupyter-widgets/controls",
          "model_name": "HTMLModel",
          "model_module_version": "1.5.0",
          "state": {
            "_dom_classes": [],
            "_model_module": "@jupyter-widgets/controls",
            "_model_module_version": "1.5.0",
            "_model_name": "HTMLModel",
            "_view_count": null,
            "_view_module": "@jupyter-widgets/controls",
            "_view_module_version": "1.5.0",
            "_view_name": "HTMLView",
            "description": "",
            "description_tooltip": null,
            "layout": "IPY_MODEL_68607d1723034ed19fb1ff466a5fee9e",
            "placeholder": "​",
            "style": "IPY_MODEL_ca918bd9437a4babbcfe764b85cb3b08",
            "value": "<center> <img\nsrc=https://www.kaggle.com/static/images/site-logo.png\nalt='Kaggle'> <br> Create an API token from <a\nhref=\"https://www.kaggle.com/settings/account\" target=\"_blank\">your Kaggle\nsettings page</a> and paste it below along with your Kaggle username. <br> </center>"
          }
        },
        "92f920d00bea4069a655210b4f33e7cb": {
          "model_module": "@jupyter-widgets/controls",
          "model_name": "TextModel",
          "model_module_version": "1.5.0",
          "state": {
            "_dom_classes": [],
            "_model_module": "@jupyter-widgets/controls",
            "_model_module_version": "1.5.0",
            "_model_name": "TextModel",
            "_view_count": null,
            "_view_module": "@jupyter-widgets/controls",
            "_view_module_version": "1.5.0",
            "_view_name": "TextView",
            "continuous_update": true,
            "description": "Username:",
            "description_tooltip": null,
            "disabled": false,
            "layout": "IPY_MODEL_e856777247ff4c0c9214715c8f802ae3",
            "placeholder": "​",
            "style": "IPY_MODEL_38f0f9f361044922a866e95cac4853e4",
            "value": "girumwondemagegn"
          }
        },
        "23ed9731330846228ec52db06389ec69": {
          "model_module": "@jupyter-widgets/controls",
          "model_name": "PasswordModel",
          "model_module_version": "1.5.0",
          "state": {
            "_dom_classes": [],
            "_model_module": "@jupyter-widgets/controls",
            "_model_module_version": "1.5.0",
            "_model_name": "PasswordModel",
            "_view_count": null,
            "_view_module": "@jupyter-widgets/controls",
            "_view_module_version": "1.5.0",
            "_view_name": "PasswordView",
            "continuous_update": true,
            "description": "Token:",
            "description_tooltip": null,
            "disabled": false,
            "layout": "IPY_MODEL_2c0a22e091df4850bb72aff7b0778041",
            "placeholder": "​",
            "style": "IPY_MODEL_229916fc27e64732ba703fca41810776",
            "value": ""
          }
        },
        "1e883d9771c0411db41af72f12a98887": {
          "model_module": "@jupyter-widgets/controls",
          "model_name": "ButtonModel",
          "model_module_version": "1.5.0",
          "state": {
            "_dom_classes": [],
            "_model_module": "@jupyter-widgets/controls",
            "_model_module_version": "1.5.0",
            "_model_name": "ButtonModel",
            "_view_count": null,
            "_view_module": "@jupyter-widgets/controls",
            "_view_module_version": "1.5.0",
            "_view_name": "ButtonView",
            "button_style": "",
            "description": "Login",
            "disabled": false,
            "icon": "",
            "layout": "IPY_MODEL_99f8f2dd7fed4c979585b028f628d44b",
            "style": "IPY_MODEL_2e3729cf028146c89817faf96f24058e",
            "tooltip": ""
          }
        },
        "59106804f59e4c9ca1566c340f7a5af0": {
          "model_module": "@jupyter-widgets/controls",
          "model_name": "HTMLModel",
          "model_module_version": "1.5.0",
          "state": {
            "_dom_classes": [],
            "_model_module": "@jupyter-widgets/controls",
            "_model_module_version": "1.5.0",
            "_model_name": "HTMLModel",
            "_view_count": null,
            "_view_module": "@jupyter-widgets/controls",
            "_view_module_version": "1.5.0",
            "_view_name": "HTMLView",
            "description": "",
            "description_tooltip": null,
            "layout": "IPY_MODEL_cf59590dd9cb485bb2b8a726c40e06d6",
            "placeholder": "​",
            "style": "IPY_MODEL_7bea03ec61014166b870e4684bf1b337",
            "value": "\n<b>Thank You</b></center>"
          }
        },
        "fd6e29f21fdd4ae98f7dbdfc2de97c70": {
          "model_module": "@jupyter-widgets/base",
          "model_name": "LayoutModel",
          "model_module_version": "1.2.0",
          "state": {
            "_model_module": "@jupyter-widgets/base",
            "_model_module_version": "1.2.0",
            "_model_name": "LayoutModel",
            "_view_count": null,
            "_view_module": "@jupyter-widgets/base",
            "_view_module_version": "1.2.0",
            "_view_name": "LayoutView",
            "align_content": null,
            "align_items": "center",
            "align_self": null,
            "border": null,
            "bottom": null,
            "display": "flex",
            "flex": null,
            "flex_flow": "column",
            "grid_area": null,
            "grid_auto_columns": null,
            "grid_auto_flow": null,
            "grid_auto_rows": null,
            "grid_column": null,
            "grid_gap": null,
            "grid_row": null,
            "grid_template_areas": null,
            "grid_template_columns": null,
            "grid_template_rows": null,
            "height": null,
            "justify_content": null,
            "justify_items": null,
            "left": null,
            "margin": null,
            "max_height": null,
            "max_width": null,
            "min_height": null,
            "min_width": null,
            "object_fit": null,
            "object_position": null,
            "order": null,
            "overflow": null,
            "overflow_x": null,
            "overflow_y": null,
            "padding": null,
            "right": null,
            "top": null,
            "visibility": null,
            "width": "50%"
          }
        },
        "68607d1723034ed19fb1ff466a5fee9e": {
          "model_module": "@jupyter-widgets/base",
          "model_name": "LayoutModel",
          "model_module_version": "1.2.0",
          "state": {
            "_model_module": "@jupyter-widgets/base",
            "_model_module_version": "1.2.0",
            "_model_name": "LayoutModel",
            "_view_count": null,
            "_view_module": "@jupyter-widgets/base",
            "_view_module_version": "1.2.0",
            "_view_name": "LayoutView",
            "align_content": null,
            "align_items": null,
            "align_self": null,
            "border": null,
            "bottom": null,
            "display": null,
            "flex": null,
            "flex_flow": null,
            "grid_area": null,
            "grid_auto_columns": null,
            "grid_auto_flow": null,
            "grid_auto_rows": null,
            "grid_column": null,
            "grid_gap": null,
            "grid_row": null,
            "grid_template_areas": null,
            "grid_template_columns": null,
            "grid_template_rows": null,
            "height": null,
            "justify_content": null,
            "justify_items": null,
            "left": null,
            "margin": null,
            "max_height": null,
            "max_width": null,
            "min_height": null,
            "min_width": null,
            "object_fit": null,
            "object_position": null,
            "order": null,
            "overflow": null,
            "overflow_x": null,
            "overflow_y": null,
            "padding": null,
            "right": null,
            "top": null,
            "visibility": null,
            "width": null
          }
        },
        "ca918bd9437a4babbcfe764b85cb3b08": {
          "model_module": "@jupyter-widgets/controls",
          "model_name": "DescriptionStyleModel",
          "model_module_version": "1.5.0",
          "state": {
            "_model_module": "@jupyter-widgets/controls",
            "_model_module_version": "1.5.0",
            "_model_name": "DescriptionStyleModel",
            "_view_count": null,
            "_view_module": "@jupyter-widgets/base",
            "_view_module_version": "1.2.0",
            "_view_name": "StyleView",
            "description_width": ""
          }
        },
        "e856777247ff4c0c9214715c8f802ae3": {
          "model_module": "@jupyter-widgets/base",
          "model_name": "LayoutModel",
          "model_module_version": "1.2.0",
          "state": {
            "_model_module": "@jupyter-widgets/base",
            "_model_module_version": "1.2.0",
            "_model_name": "LayoutModel",
            "_view_count": null,
            "_view_module": "@jupyter-widgets/base",
            "_view_module_version": "1.2.0",
            "_view_name": "LayoutView",
            "align_content": null,
            "align_items": null,
            "align_self": null,
            "border": null,
            "bottom": null,
            "display": null,
            "flex": null,
            "flex_flow": null,
            "grid_area": null,
            "grid_auto_columns": null,
            "grid_auto_flow": null,
            "grid_auto_rows": null,
            "grid_column": null,
            "grid_gap": null,
            "grid_row": null,
            "grid_template_areas": null,
            "grid_template_columns": null,
            "grid_template_rows": null,
            "height": null,
            "justify_content": null,
            "justify_items": null,
            "left": null,
            "margin": null,
            "max_height": null,
            "max_width": null,
            "min_height": null,
            "min_width": null,
            "object_fit": null,
            "object_position": null,
            "order": null,
            "overflow": null,
            "overflow_x": null,
            "overflow_y": null,
            "padding": null,
            "right": null,
            "top": null,
            "visibility": null,
            "width": null
          }
        },
        "38f0f9f361044922a866e95cac4853e4": {
          "model_module": "@jupyter-widgets/controls",
          "model_name": "DescriptionStyleModel",
          "model_module_version": "1.5.0",
          "state": {
            "_model_module": "@jupyter-widgets/controls",
            "_model_module_version": "1.5.0",
            "_model_name": "DescriptionStyleModel",
            "_view_count": null,
            "_view_module": "@jupyter-widgets/base",
            "_view_module_version": "1.2.0",
            "_view_name": "StyleView",
            "description_width": ""
          }
        },
        "2c0a22e091df4850bb72aff7b0778041": {
          "model_module": "@jupyter-widgets/base",
          "model_name": "LayoutModel",
          "model_module_version": "1.2.0",
          "state": {
            "_model_module": "@jupyter-widgets/base",
            "_model_module_version": "1.2.0",
            "_model_name": "LayoutModel",
            "_view_count": null,
            "_view_module": "@jupyter-widgets/base",
            "_view_module_version": "1.2.0",
            "_view_name": "LayoutView",
            "align_content": null,
            "align_items": null,
            "align_self": null,
            "border": null,
            "bottom": null,
            "display": null,
            "flex": null,
            "flex_flow": null,
            "grid_area": null,
            "grid_auto_columns": null,
            "grid_auto_flow": null,
            "grid_auto_rows": null,
            "grid_column": null,
            "grid_gap": null,
            "grid_row": null,
            "grid_template_areas": null,
            "grid_template_columns": null,
            "grid_template_rows": null,
            "height": null,
            "justify_content": null,
            "justify_items": null,
            "left": null,
            "margin": null,
            "max_height": null,
            "max_width": null,
            "min_height": null,
            "min_width": null,
            "object_fit": null,
            "object_position": null,
            "order": null,
            "overflow": null,
            "overflow_x": null,
            "overflow_y": null,
            "padding": null,
            "right": null,
            "top": null,
            "visibility": null,
            "width": null
          }
        },
        "229916fc27e64732ba703fca41810776": {
          "model_module": "@jupyter-widgets/controls",
          "model_name": "DescriptionStyleModel",
          "model_module_version": "1.5.0",
          "state": {
            "_model_module": "@jupyter-widgets/controls",
            "_model_module_version": "1.5.0",
            "_model_name": "DescriptionStyleModel",
            "_view_count": null,
            "_view_module": "@jupyter-widgets/base",
            "_view_module_version": "1.2.0",
            "_view_name": "StyleView",
            "description_width": ""
          }
        },
        "99f8f2dd7fed4c979585b028f628d44b": {
          "model_module": "@jupyter-widgets/base",
          "model_name": "LayoutModel",
          "model_module_version": "1.2.0",
          "state": {
            "_model_module": "@jupyter-widgets/base",
            "_model_module_version": "1.2.0",
            "_model_name": "LayoutModel",
            "_view_count": null,
            "_view_module": "@jupyter-widgets/base",
            "_view_module_version": "1.2.0",
            "_view_name": "LayoutView",
            "align_content": null,
            "align_items": null,
            "align_self": null,
            "border": null,
            "bottom": null,
            "display": null,
            "flex": null,
            "flex_flow": null,
            "grid_area": null,
            "grid_auto_columns": null,
            "grid_auto_flow": null,
            "grid_auto_rows": null,
            "grid_column": null,
            "grid_gap": null,
            "grid_row": null,
            "grid_template_areas": null,
            "grid_template_columns": null,
            "grid_template_rows": null,
            "height": null,
            "justify_content": null,
            "justify_items": null,
            "left": null,
            "margin": null,
            "max_height": null,
            "max_width": null,
            "min_height": null,
            "min_width": null,
            "object_fit": null,
            "object_position": null,
            "order": null,
            "overflow": null,
            "overflow_x": null,
            "overflow_y": null,
            "padding": null,
            "right": null,
            "top": null,
            "visibility": null,
            "width": null
          }
        },
        "2e3729cf028146c89817faf96f24058e": {
          "model_module": "@jupyter-widgets/controls",
          "model_name": "ButtonStyleModel",
          "model_module_version": "1.5.0",
          "state": {
            "_model_module": "@jupyter-widgets/controls",
            "_model_module_version": "1.5.0",
            "_model_name": "ButtonStyleModel",
            "_view_count": null,
            "_view_module": "@jupyter-widgets/base",
            "_view_module_version": "1.2.0",
            "_view_name": "StyleView",
            "button_color": null,
            "font_weight": ""
          }
        },
        "cf59590dd9cb485bb2b8a726c40e06d6": {
          "model_module": "@jupyter-widgets/base",
          "model_name": "LayoutModel",
          "model_module_version": "1.2.0",
          "state": {
            "_model_module": "@jupyter-widgets/base",
            "_model_module_version": "1.2.0",
            "_model_name": "LayoutModel",
            "_view_count": null,
            "_view_module": "@jupyter-widgets/base",
            "_view_module_version": "1.2.0",
            "_view_name": "LayoutView",
            "align_content": null,
            "align_items": null,
            "align_self": null,
            "border": null,
            "bottom": null,
            "display": null,
            "flex": null,
            "flex_flow": null,
            "grid_area": null,
            "grid_auto_columns": null,
            "grid_auto_flow": null,
            "grid_auto_rows": null,
            "grid_column": null,
            "grid_gap": null,
            "grid_row": null,
            "grid_template_areas": null,
            "grid_template_columns": null,
            "grid_template_rows": null,
            "height": null,
            "justify_content": null,
            "justify_items": null,
            "left": null,
            "margin": null,
            "max_height": null,
            "max_width": null,
            "min_height": null,
            "min_width": null,
            "object_fit": null,
            "object_position": null,
            "order": null,
            "overflow": null,
            "overflow_x": null,
            "overflow_y": null,
            "padding": null,
            "right": null,
            "top": null,
            "visibility": null,
            "width": null
          }
        },
        "7bea03ec61014166b870e4684bf1b337": {
          "model_module": "@jupyter-widgets/controls",
          "model_name": "DescriptionStyleModel",
          "model_module_version": "1.5.0",
          "state": {
            "_model_module": "@jupyter-widgets/controls",
            "_model_module_version": "1.5.0",
            "_model_name": "DescriptionStyleModel",
            "_view_count": null,
            "_view_module": "@jupyter-widgets/base",
            "_view_module_version": "1.2.0",
            "_view_name": "StyleView",
            "description_width": ""
          }
        },
        "ca7597205b364493bf94fb2cab779f72": {
          "model_module": "@jupyter-widgets/controls",
          "model_name": "LabelModel",
          "model_module_version": "1.5.0",
          "state": {
            "_dom_classes": [],
            "_model_module": "@jupyter-widgets/controls",
            "_model_module_version": "1.5.0",
            "_model_name": "LabelModel",
            "_view_count": null,
            "_view_module": "@jupyter-widgets/controls",
            "_view_module_version": "1.5.0",
            "_view_name": "LabelView",
            "description": "",
            "description_tooltip": null,
            "layout": "IPY_MODEL_d2fa7ebeb8b54d03b1fb9373263af1ec",
            "placeholder": "​",
            "style": "IPY_MODEL_9f319c7e89624284802585edc8b601c8",
            "value": "Connecting..."
          }
        },
        "d2fa7ebeb8b54d03b1fb9373263af1ec": {
          "model_module": "@jupyter-widgets/base",
          "model_name": "LayoutModel",
          "model_module_version": "1.2.0",
          "state": {
            "_model_module": "@jupyter-widgets/base",
            "_model_module_version": "1.2.0",
            "_model_name": "LayoutModel",
            "_view_count": null,
            "_view_module": "@jupyter-widgets/base",
            "_view_module_version": "1.2.0",
            "_view_name": "LayoutView",
            "align_content": null,
            "align_items": null,
            "align_self": null,
            "border": null,
            "bottom": null,
            "display": null,
            "flex": null,
            "flex_flow": null,
            "grid_area": null,
            "grid_auto_columns": null,
            "grid_auto_flow": null,
            "grid_auto_rows": null,
            "grid_column": null,
            "grid_gap": null,
            "grid_row": null,
            "grid_template_areas": null,
            "grid_template_columns": null,
            "grid_template_rows": null,
            "height": null,
            "justify_content": null,
            "justify_items": null,
            "left": null,
            "margin": null,
            "max_height": null,
            "max_width": null,
            "min_height": null,
            "min_width": null,
            "object_fit": null,
            "object_position": null,
            "order": null,
            "overflow": null,
            "overflow_x": null,
            "overflow_y": null,
            "padding": null,
            "right": null,
            "top": null,
            "visibility": null,
            "width": null
          }
        },
        "9f319c7e89624284802585edc8b601c8": {
          "model_module": "@jupyter-widgets/controls",
          "model_name": "DescriptionStyleModel",
          "model_module_version": "1.5.0",
          "state": {
            "_model_module": "@jupyter-widgets/controls",
            "_model_module_version": "1.5.0",
            "_model_name": "DescriptionStyleModel",
            "_view_count": null,
            "_view_module": "@jupyter-widgets/base",
            "_view_module_version": "1.2.0",
            "_view_name": "StyleView",
            "description_width": ""
          }
        },
        "a0b218f667914feaab706550ba8f58ae": {
          "model_module": "@jupyter-widgets/controls",
          "model_name": "LabelModel",
          "model_module_version": "1.5.0",
          "state": {
            "_dom_classes": [],
            "_model_module": "@jupyter-widgets/controls",
            "_model_module_version": "1.5.0",
            "_model_name": "LabelModel",
            "_view_count": null,
            "_view_module": "@jupyter-widgets/controls",
            "_view_module_version": "1.5.0",
            "_view_name": "LabelView",
            "description": "",
            "description_tooltip": null,
            "layout": "IPY_MODEL_a81d4fea4d7c4d6fa7908bfea3c1c402",
            "placeholder": "​",
            "style": "IPY_MODEL_5a66e61c1d694d298a57aa0e6aade67e",
            "value": "Kaggle credentials successfully validated."
          }
        },
        "a81d4fea4d7c4d6fa7908bfea3c1c402": {
          "model_module": "@jupyter-widgets/base",
          "model_name": "LayoutModel",
          "model_module_version": "1.2.0",
          "state": {
            "_model_module": "@jupyter-widgets/base",
            "_model_module_version": "1.2.0",
            "_model_name": "LayoutModel",
            "_view_count": null,
            "_view_module": "@jupyter-widgets/base",
            "_view_module_version": "1.2.0",
            "_view_name": "LayoutView",
            "align_content": null,
            "align_items": null,
            "align_self": null,
            "border": null,
            "bottom": null,
            "display": null,
            "flex": null,
            "flex_flow": null,
            "grid_area": null,
            "grid_auto_columns": null,
            "grid_auto_flow": null,
            "grid_auto_rows": null,
            "grid_column": null,
            "grid_gap": null,
            "grid_row": null,
            "grid_template_areas": null,
            "grid_template_columns": null,
            "grid_template_rows": null,
            "height": null,
            "justify_content": null,
            "justify_items": null,
            "left": null,
            "margin": null,
            "max_height": null,
            "max_width": null,
            "min_height": null,
            "min_width": null,
            "object_fit": null,
            "object_position": null,
            "order": null,
            "overflow": null,
            "overflow_x": null,
            "overflow_y": null,
            "padding": null,
            "right": null,
            "top": null,
            "visibility": null,
            "width": null
          }
        },
        "5a66e61c1d694d298a57aa0e6aade67e": {
          "model_module": "@jupyter-widgets/controls",
          "model_name": "DescriptionStyleModel",
          "model_module_version": "1.5.0",
          "state": {
            "_model_module": "@jupyter-widgets/controls",
            "_model_module_version": "1.5.0",
            "_model_name": "DescriptionStyleModel",
            "_view_count": null,
            "_view_module": "@jupyter-widgets/base",
            "_view_module_version": "1.2.0",
            "_view_name": "StyleView",
            "description_width": ""
          }
        }
      }
    }
  },
  "nbformat_minor": 0,
  "nbformat": 4,
  "cells": [
    {
      "source": [
        "# IMPORTANT: SOME KAGGLE DATA SOURCES ARE PRIVATE\n",
        "# RUN THIS CELL IN ORDER TO IMPORT YOUR KAGGLE DATA SOURCES.\n",
        "import kagglehub\n",
        "kagglehub.login()\n"
      ],
      "metadata": {
        "id": "S-Voy-myTi5d",
        "outputId": "6d12b24a-bc0d-46cb-b2b6-b688dc74bdbb",
        "colab": {
          "base_uri": "https://localhost:8080/",
          "height": 84,
          "referenced_widgets": [
            "a40d7878cf9a4c83baa4b2c98fbaa5d6",
            "64be97517914471d9c92ba2884f6a0fa",
            "92f920d00bea4069a655210b4f33e7cb",
            "23ed9731330846228ec52db06389ec69",
            "1e883d9771c0411db41af72f12a98887",
            "59106804f59e4c9ca1566c340f7a5af0",
            "fd6e29f21fdd4ae98f7dbdfc2de97c70",
            "68607d1723034ed19fb1ff466a5fee9e",
            "ca918bd9437a4babbcfe764b85cb3b08",
            "e856777247ff4c0c9214715c8f802ae3",
            "38f0f9f361044922a866e95cac4853e4",
            "2c0a22e091df4850bb72aff7b0778041",
            "229916fc27e64732ba703fca41810776",
            "99f8f2dd7fed4c979585b028f628d44b",
            "2e3729cf028146c89817faf96f24058e",
            "cf59590dd9cb485bb2b8a726c40e06d6",
            "7bea03ec61014166b870e4684bf1b337",
            "ca7597205b364493bf94fb2cab779f72",
            "d2fa7ebeb8b54d03b1fb9373263af1ec",
            "9f319c7e89624284802585edc8b601c8",
            "a0b218f667914feaab706550ba8f58ae",
            "a81d4fea4d7c4d6fa7908bfea3c1c402",
            "5a66e61c1d694d298a57aa0e6aade67e"
          ]
        }
      },
      "cell_type": "code",
      "outputs": [
        {
          "output_type": "display_data",
          "data": {
            "text/plain": [
              "VBox(children=(HTML(value='<center> <img\\nsrc=https://www.kaggle.com/static/images/site-logo.png\\nalt=\\'Kaggle…"
            ],
            "application/vnd.jupyter.widget-view+json": {
              "version_major": 2,
              "version_minor": 0,
              "model_id": "a40d7878cf9a4c83baa4b2c98fbaa5d6"
            }
          },
          "metadata": {}
        },
        {
          "output_type": "stream",
          "name": "stdout",
          "text": [
            "Kaggle credentials set.\n",
            "Kaggle credentials successfully validated.\n"
          ]
        }
      ],
      "execution_count": 9
    },
    {
      "source": [
        "# IMPORTANT: RUN THIS CELL IN ORDER TO IMPORT YOUR KAGGLE DATA SOURCES,\n",
        "# THEN FEEL FREE TO DELETE THIS CELL.\n",
        "# NOTE: THIS NOTEBOOK ENVIRONMENT DIFFERS FROM KAGGLE'S PYTHON\n",
        "# ENVIRONMENT SO THERE MAY BE MISSING LIBRARIES USED BY YOUR\n",
        "# NOTEBOOK.\n",
        "\n",
        "girumwondemagegn_network_intrusion_detection_data_path = kagglehub.dataset_download('girumwondemagegn/network-intrusion-detection-data')\n",
        "\n",
        "print('Data source import complete.')\n"
      ],
      "metadata": {
        "id": "w1e9OGLaTi5k",
        "outputId": "441589d5-00a7-45de-94c1-0fd8d207a69e",
        "colab": {
          "base_uri": "https://localhost:8080/"
        }
      },
      "cell_type": "code",
      "outputs": [
        {
          "output_type": "stream",
          "name": "stdout",
          "text": [
            "Data source import complete.\n"
          ]
        }
      ],
      "execution_count": 16
    },
    {
      "cell_type": "code",
      "source": [
        "import os\n",
        "\n",
        "for root, dirs, files in os.walk(\"/\"):\n",
        "    for file in files:\n",
        "        if \"KDD\" in file or \"kdd\" in file:\n",
        "            print(os.path.join(root, file))\n",
        "\n"
      ],
      "metadata": {
        "id": "h1JhveTmVw20",
        "outputId": "e936d000-2974-4a55-8dbd-4b94c1b692fc",
        "colab": {
          "base_uri": "https://localhost:8080/"
        }
      },
      "execution_count": 21,
      "outputs": [
        {
          "output_type": "stream",
          "name": "stdout",
          "text": [
            "/root/.cache/kagglehub/datasets/girumwondemagegn/network-intrusion-detection-data/versions/2/KDDTest.txt\n",
            "/root/.cache/kagglehub/datasets/girumwondemagegn/network-intrusion-detection-data/versions/2/kddcup.data.corrected\n",
            "/root/.cache/kagglehub/datasets/girumwondemagegn/network-intrusion-detection-data/versions/2/KDDTrain.txt\n",
            "/usr/local/lib/python3.11/dist-packages/sklearn/datasets/_kddcup99.py\n",
            "/usr/local/lib/python3.11/dist-packages/sklearn/datasets/tests/test_kddcup99.py\n",
            "/usr/local/lib/python3.11/dist-packages/sklearn/datasets/descr/kddcup99.rst\n",
            "/usr/local/lib/python3.11/dist-packages/tensorflow_datasets/datasets/kddcup99/kddcup99_dataset_builder_test.py\n",
            "/usr/local/lib/python3.11/dist-packages/tensorflow_datasets/datasets/kddcup99/kddcup99_dataset_builder.py\n",
            "/usr/local/lib/python3.11/dist-packages/tensorflow_datasets/structured/kddcup99/kddcup99.py\n"
          ]
        }
      ]
    },
    {
      "cell_type": "markdown",
      "source": [
        "# Import necessary libraries"
      ],
      "metadata": {
        "_uuid": "38589fc1-03df-4ed4-a5a4-f6d326f753b6",
        "_cell_guid": "e422269d-bae1-426b-92eb-15740877a195",
        "collapsed": false,
        "execution": {
          "iopub.status.busy": "2025-04-15T03:42:59.29271Z",
          "iopub.execute_input": "2025-04-15T03:42:59.292938Z",
          "iopub.status.idle": "2025-04-15T03:42:59.298067Z",
          "shell.execute_reply.started": "2025-04-15T03:42:59.29292Z",
          "shell.execute_reply": "2025-04-15T03:42:59.297376Z"
        },
        "jupyter": {
          "outputs_hidden": false
        },
        "id": "wppKJaO6Ti5n"
      }
    },
    {
      "cell_type": "code",
      "source": [
        "import pandas as pd\n",
        "from sklearn.model_selection import train_test_split\n",
        "from sklearn.compose import ColumnTransformer\n",
        "from sklearn.pipeline import Pipeline\n",
        "from sklearn.preprocessing import OneHotEncoder, StandardScaler\n",
        "from sklearn.metrics import classification_report, accuracy_score\n",
        "from sklearn.ensemble import RandomForestClassifier\n",
        "from sklearn.linear_model import LogisticRegression\n",
        "import joblib\n",
        "from google.colab import files\n",
        "from xgboost import XGBClassifier\n",
        "from lightgbm import LGBMClassifier\n",
        "from sklearn.preprocessing import LabelEncoder"
      ],
      "metadata": {
        "_uuid": "38589fc1-03df-4ed4-a5a4-f6d326f753b6",
        "_cell_guid": "e422269d-bae1-426b-92eb-15740877a195",
        "trusted": true,
        "execution": {
          "iopub.status.busy": "2025-04-16T01:31:59.791211Z",
          "iopub.execute_input": "2025-04-16T01:31:59.791849Z",
          "iopub.status.idle": "2025-04-16T01:32:05.487978Z",
          "shell.execute_reply.started": "2025-04-16T01:31:59.791814Z",
          "shell.execute_reply": "2025-04-16T01:32:05.487152Z"
        },
        "jupyter": {
          "outputs_hidden": false
        },
        "id": "zwrmlxg-Ti5s"
      },
      "outputs": [],
      "execution_count": 67
    },
    {
      "cell_type": "markdown",
      "source": [
        "## Manually assign column names"
      ],
      "metadata": {
        "id": "wbvFCum7X3tp"
      }
    },
    {
      "cell_type": "code",
      "source": [
        "columns = [\n",
        "    \"duration\",\"protocol_type\",\"service\",\"flag\",\"src_bytes\",\"dst_bytes\",\"land\",\"wrong_fragment\",\"urgent\",\n",
        "    \"hot\",\"num_failed_logins\",\"logged_in\",\"num_compromised\",\"root_shell\",\"su_attempted\",\"num_root\",\n",
        "    \"num_file_creations\",\"num_shells\",\"num_access_files\",\"num_outbound_cmds\",\"is_host_login\",\"is_guest_login\",\n",
        "    \"count\",\"srv_count\",\"serror_rate\",\"srv_serror_rate\",\"rerror_rate\",\"srv_rerror_rate\",\"same_srv_rate\",\n",
        "    \"diff_srv_rate\",\"srv_diff_host_rate\",\"dst_host_count\",\"dst_host_srv_count\",\"dst_host_same_srv_rate\",\n",
        "    \"dst_host_diff_srv_rate\",\"dst_host_same_src_port_rate\",\"dst_host_srv_diff_host_rate\",\"dst_host_serror_rate\",\n",
        "    \"dst_host_srv_serror_rate\",\"dst_host_rerror_rate\",\"dst_host_srv_rerror_rate\",\"attack\",\"level\"\n",
        "]"
      ],
      "metadata": {
        "id": "db_jgU8TXsZf"
      },
      "execution_count": 46,
      "outputs": []
    },
    {
      "cell_type": "markdown",
      "source": [
        "# Load the training dataset"
      ],
      "metadata": {
        "_uuid": "5eb53c2f-9f61-4798-b9c7-2585c050ad16",
        "_cell_guid": "62697881-89ce-4558-9b25-64d7eee29a13",
        "collapsed": false,
        "execution": {
          "iopub.status.busy": "2025-04-15T03:42:59.298779Z",
          "iopub.execute_input": "2025-04-15T03:42:59.29903Z",
          "iopub.status.idle": "2025-04-15T03:42:59.759164Z",
          "shell.execute_reply.started": "2025-04-15T03:42:59.299013Z",
          "shell.execute_reply": "2025-04-15T03:42:59.758383Z"
        },
        "jupyter": {
          "outputs_hidden": false
        },
        "id": "FaUijNo8Ti5v"
      }
    },
    {
      "cell_type": "code",
      "source": [
        "df = pd.read_csv(\"/root/.cache/kagglehub/datasets/girumwondemagegn/network-intrusion-detection-data/versions/2/KDDTrain.txt\", names=columns)\n",
        "Test_df = pd.read_csv(\"/root/.cache/kagglehub/datasets/girumwondemagegn/network-intrusion-detection-data/versions/2/KDDTest.txt\", names=columns)"
      ],
      "metadata": {
        "_uuid": "5eb53c2f-9f61-4798-b9c7-2585c050ad16",
        "_cell_guid": "62697881-89ce-4558-9b25-64d7eee29a13",
        "trusted": true,
        "execution": {
          "iopub.status.busy": "2025-04-16T01:32:40.677801Z",
          "iopub.execute_input": "2025-04-16T01:32:40.678064Z",
          "iopub.status.idle": "2025-04-16T01:32:41.041115Z",
          "shell.execute_reply.started": "2025-04-16T01:32:40.678043Z",
          "shell.execute_reply": "2025-04-16T01:32:41.040399Z"
        },
        "jupyter": {
          "outputs_hidden": false
        },
        "id": "g4Hi1zLiTi5x"
      },
      "outputs": [],
      "execution_count": 45
    },
    {
      "cell_type": "markdown",
      "source": [
        "# Display the first few rows of the dataframe"
      ],
      "metadata": {
        "_uuid": "5eb53c2f-9f61-4798-b9c7-2585c050ad16",
        "_cell_guid": "62697881-89ce-4558-9b25-64d7eee29a13",
        "collapsed": false,
        "execution": {
          "iopub.status.busy": "2025-04-15T03:42:59.298779Z",
          "iopub.execute_input": "2025-04-15T03:42:59.29903Z",
          "iopub.status.idle": "2025-04-15T03:42:59.759164Z",
          "shell.execute_reply.started": "2025-04-15T03:42:59.299013Z",
          "shell.execute_reply": "2025-04-15T03:42:59.758383Z"
        },
        "jupyter": {
          "outputs_hidden": false
        },
        "id": "icYYh2YsTi50"
      }
    },
    {
      "cell_type": "code",
      "source": [
        "df.head()"
      ],
      "metadata": {
        "_uuid": "5eb53c2f-9f61-4798-b9c7-2585c050ad16",
        "_cell_guid": "62697881-89ce-4558-9b25-64d7eee29a13",
        "trusted": true,
        "execution": {
          "iopub.status.busy": "2025-04-16T01:33:54.717595Z",
          "iopub.execute_input": "2025-04-16T01:33:54.717865Z",
          "iopub.status.idle": "2025-04-16T01:33:54.758737Z",
          "shell.execute_reply.started": "2025-04-16T01:33:54.717845Z",
          "shell.execute_reply": "2025-04-16T01:33:54.758031Z"
        },
        "jupyter": {
          "outputs_hidden": false
        },
        "id": "yTBr9LNdTi53",
        "outputId": "bb237007-3020-4440-a157-053c838a8fb3",
        "colab": {
          "base_uri": "https://localhost:8080/",
          "height": 256
        }
      },
      "outputs": [
        {
          "output_type": "execute_result",
          "data": {
            "text/plain": [
              "   duration protocol_type   service flag  src_bytes  dst_bytes  land  \\\n",
              "0         0           tcp  ftp_data   SF        491          0     0   \n",
              "1         0           udp     other   SF        146          0     0   \n",
              "2         0           tcp   private   S0          0          0     0   \n",
              "3         0           tcp      http   SF        232       8153     0   \n",
              "4         0           tcp      http   SF        199        420     0   \n",
              "\n",
              "   wrong_fragment  urgent  hot  ...  dst_host_same_srv_rate  \\\n",
              "0               0       0    0  ...                    0.17   \n",
              "1               0       0    0  ...                    0.00   \n",
              "2               0       0    0  ...                    0.10   \n",
              "3               0       0    0  ...                    1.00   \n",
              "4               0       0    0  ...                    1.00   \n",
              "\n",
              "   dst_host_diff_srv_rate  dst_host_same_src_port_rate  \\\n",
              "0                    0.03                         0.17   \n",
              "1                    0.60                         0.88   \n",
              "2                    0.05                         0.00   \n",
              "3                    0.00                         0.03   \n",
              "4                    0.00                         0.00   \n",
              "\n",
              "   dst_host_srv_diff_host_rate  dst_host_serror_rate  \\\n",
              "0                         0.00                  0.00   \n",
              "1                         0.00                  0.00   \n",
              "2                         0.00                  1.00   \n",
              "3                         0.04                  0.03   \n",
              "4                         0.00                  0.00   \n",
              "\n",
              "   dst_host_srv_serror_rate  dst_host_rerror_rate  dst_host_srv_rerror_rate  \\\n",
              "0                      0.00                  0.05                      0.00   \n",
              "1                      0.00                  0.00                      0.00   \n",
              "2                      1.00                  0.00                      0.00   \n",
              "3                      0.01                  0.00                      0.01   \n",
              "4                      0.00                  0.00                      0.00   \n",
              "\n",
              "    attack  level  \n",
              "0   normal     20  \n",
              "1   normal     15  \n",
              "2  neptune     19  \n",
              "3   normal     21  \n",
              "4   normal     21  \n",
              "\n",
              "[5 rows x 43 columns]"
            ],
            "text/html": [
              "\n",
              "  <div id=\"df-5228d79a-578d-4f19-92d7-fefd0451d41e\" class=\"colab-df-container\">\n",
              "    <div>\n",
              "<style scoped>\n",
              "    .dataframe tbody tr th:only-of-type {\n",
              "        vertical-align: middle;\n",
              "    }\n",
              "\n",
              "    .dataframe tbody tr th {\n",
              "        vertical-align: top;\n",
              "    }\n",
              "\n",
              "    .dataframe thead th {\n",
              "        text-align: right;\n",
              "    }\n",
              "</style>\n",
              "<table border=\"1\" class=\"dataframe\">\n",
              "  <thead>\n",
              "    <tr style=\"text-align: right;\">\n",
              "      <th></th>\n",
              "      <th>duration</th>\n",
              "      <th>protocol_type</th>\n",
              "      <th>service</th>\n",
              "      <th>flag</th>\n",
              "      <th>src_bytes</th>\n",
              "      <th>dst_bytes</th>\n",
              "      <th>land</th>\n",
              "      <th>wrong_fragment</th>\n",
              "      <th>urgent</th>\n",
              "      <th>hot</th>\n",
              "      <th>...</th>\n",
              "      <th>dst_host_same_srv_rate</th>\n",
              "      <th>dst_host_diff_srv_rate</th>\n",
              "      <th>dst_host_same_src_port_rate</th>\n",
              "      <th>dst_host_srv_diff_host_rate</th>\n",
              "      <th>dst_host_serror_rate</th>\n",
              "      <th>dst_host_srv_serror_rate</th>\n",
              "      <th>dst_host_rerror_rate</th>\n",
              "      <th>dst_host_srv_rerror_rate</th>\n",
              "      <th>attack</th>\n",
              "      <th>level</th>\n",
              "    </tr>\n",
              "  </thead>\n",
              "  <tbody>\n",
              "    <tr>\n",
              "      <th>0</th>\n",
              "      <td>0</td>\n",
              "      <td>tcp</td>\n",
              "      <td>ftp_data</td>\n",
              "      <td>SF</td>\n",
              "      <td>491</td>\n",
              "      <td>0</td>\n",
              "      <td>0</td>\n",
              "      <td>0</td>\n",
              "      <td>0</td>\n",
              "      <td>0</td>\n",
              "      <td>...</td>\n",
              "      <td>0.17</td>\n",
              "      <td>0.03</td>\n",
              "      <td>0.17</td>\n",
              "      <td>0.00</td>\n",
              "      <td>0.00</td>\n",
              "      <td>0.00</td>\n",
              "      <td>0.05</td>\n",
              "      <td>0.00</td>\n",
              "      <td>normal</td>\n",
              "      <td>20</td>\n",
              "    </tr>\n",
              "    <tr>\n",
              "      <th>1</th>\n",
              "      <td>0</td>\n",
              "      <td>udp</td>\n",
              "      <td>other</td>\n",
              "      <td>SF</td>\n",
              "      <td>146</td>\n",
              "      <td>0</td>\n",
              "      <td>0</td>\n",
              "      <td>0</td>\n",
              "      <td>0</td>\n",
              "      <td>0</td>\n",
              "      <td>...</td>\n",
              "      <td>0.00</td>\n",
              "      <td>0.60</td>\n",
              "      <td>0.88</td>\n",
              "      <td>0.00</td>\n",
              "      <td>0.00</td>\n",
              "      <td>0.00</td>\n",
              "      <td>0.00</td>\n",
              "      <td>0.00</td>\n",
              "      <td>normal</td>\n",
              "      <td>15</td>\n",
              "    </tr>\n",
              "    <tr>\n",
              "      <th>2</th>\n",
              "      <td>0</td>\n",
              "      <td>tcp</td>\n",
              "      <td>private</td>\n",
              "      <td>S0</td>\n",
              "      <td>0</td>\n",
              "      <td>0</td>\n",
              "      <td>0</td>\n",
              "      <td>0</td>\n",
              "      <td>0</td>\n",
              "      <td>0</td>\n",
              "      <td>...</td>\n",
              "      <td>0.10</td>\n",
              "      <td>0.05</td>\n",
              "      <td>0.00</td>\n",
              "      <td>0.00</td>\n",
              "      <td>1.00</td>\n",
              "      <td>1.00</td>\n",
              "      <td>0.00</td>\n",
              "      <td>0.00</td>\n",
              "      <td>neptune</td>\n",
              "      <td>19</td>\n",
              "    </tr>\n",
              "    <tr>\n",
              "      <th>3</th>\n",
              "      <td>0</td>\n",
              "      <td>tcp</td>\n",
              "      <td>http</td>\n",
              "      <td>SF</td>\n",
              "      <td>232</td>\n",
              "      <td>8153</td>\n",
              "      <td>0</td>\n",
              "      <td>0</td>\n",
              "      <td>0</td>\n",
              "      <td>0</td>\n",
              "      <td>...</td>\n",
              "      <td>1.00</td>\n",
              "      <td>0.00</td>\n",
              "      <td>0.03</td>\n",
              "      <td>0.04</td>\n",
              "      <td>0.03</td>\n",
              "      <td>0.01</td>\n",
              "      <td>0.00</td>\n",
              "      <td>0.01</td>\n",
              "      <td>normal</td>\n",
              "      <td>21</td>\n",
              "    </tr>\n",
              "    <tr>\n",
              "      <th>4</th>\n",
              "      <td>0</td>\n",
              "      <td>tcp</td>\n",
              "      <td>http</td>\n",
              "      <td>SF</td>\n",
              "      <td>199</td>\n",
              "      <td>420</td>\n",
              "      <td>0</td>\n",
              "      <td>0</td>\n",
              "      <td>0</td>\n",
              "      <td>0</td>\n",
              "      <td>...</td>\n",
              "      <td>1.00</td>\n",
              "      <td>0.00</td>\n",
              "      <td>0.00</td>\n",
              "      <td>0.00</td>\n",
              "      <td>0.00</td>\n",
              "      <td>0.00</td>\n",
              "      <td>0.00</td>\n",
              "      <td>0.00</td>\n",
              "      <td>normal</td>\n",
              "      <td>21</td>\n",
              "    </tr>\n",
              "  </tbody>\n",
              "</table>\n",
              "<p>5 rows × 43 columns</p>\n",
              "</div>\n",
              "    <div class=\"colab-df-buttons\">\n",
              "\n",
              "  <div class=\"colab-df-container\">\n",
              "    <button class=\"colab-df-convert\" onclick=\"convertToInteractive('df-5228d79a-578d-4f19-92d7-fefd0451d41e')\"\n",
              "            title=\"Convert this dataframe to an interactive table.\"\n",
              "            style=\"display:none;\">\n",
              "\n",
              "  <svg xmlns=\"http://www.w3.org/2000/svg\" height=\"24px\" viewBox=\"0 -960 960 960\">\n",
              "    <path d=\"M120-120v-720h720v720H120Zm60-500h600v-160H180v160Zm220 220h160v-160H400v160Zm0 220h160v-160H400v160ZM180-400h160v-160H180v160Zm440 0h160v-160H620v160ZM180-180h160v-160H180v160Zm440 0h160v-160H620v160Z\"/>\n",
              "  </svg>\n",
              "    </button>\n",
              "\n",
              "  <style>\n",
              "    .colab-df-container {\n",
              "      display:flex;\n",
              "      gap: 12px;\n",
              "    }\n",
              "\n",
              "    .colab-df-convert {\n",
              "      background-color: #E8F0FE;\n",
              "      border: none;\n",
              "      border-radius: 50%;\n",
              "      cursor: pointer;\n",
              "      display: none;\n",
              "      fill: #1967D2;\n",
              "      height: 32px;\n",
              "      padding: 0 0 0 0;\n",
              "      width: 32px;\n",
              "    }\n",
              "\n",
              "    .colab-df-convert:hover {\n",
              "      background-color: #E2EBFA;\n",
              "      box-shadow: 0px 1px 2px rgba(60, 64, 67, 0.3), 0px 1px 3px 1px rgba(60, 64, 67, 0.15);\n",
              "      fill: #174EA6;\n",
              "    }\n",
              "\n",
              "    .colab-df-buttons div {\n",
              "      margin-bottom: 4px;\n",
              "    }\n",
              "\n",
              "    [theme=dark] .colab-df-convert {\n",
              "      background-color: #3B4455;\n",
              "      fill: #D2E3FC;\n",
              "    }\n",
              "\n",
              "    [theme=dark] .colab-df-convert:hover {\n",
              "      background-color: #434B5C;\n",
              "      box-shadow: 0px 1px 3px 1px rgba(0, 0, 0, 0.15);\n",
              "      filter: drop-shadow(0px 1px 2px rgba(0, 0, 0, 0.3));\n",
              "      fill: #FFFFFF;\n",
              "    }\n",
              "  </style>\n",
              "\n",
              "    <script>\n",
              "      const buttonEl =\n",
              "        document.querySelector('#df-5228d79a-578d-4f19-92d7-fefd0451d41e button.colab-df-convert');\n",
              "      buttonEl.style.display =\n",
              "        google.colab.kernel.accessAllowed ? 'block' : 'none';\n",
              "\n",
              "      async function convertToInteractive(key) {\n",
              "        const element = document.querySelector('#df-5228d79a-578d-4f19-92d7-fefd0451d41e');\n",
              "        const dataTable =\n",
              "          await google.colab.kernel.invokeFunction('convertToInteractive',\n",
              "                                                    [key], {});\n",
              "        if (!dataTable) return;\n",
              "\n",
              "        const docLinkHtml = 'Like what you see? Visit the ' +\n",
              "          '<a target=\"_blank\" href=https://colab.research.google.com/notebooks/data_table.ipynb>data table notebook</a>'\n",
              "          + ' to learn more about interactive tables.';\n",
              "        element.innerHTML = '';\n",
              "        dataTable['output_type'] = 'display_data';\n",
              "        await google.colab.output.renderOutput(dataTable, element);\n",
              "        const docLink = document.createElement('div');\n",
              "        docLink.innerHTML = docLinkHtml;\n",
              "        element.appendChild(docLink);\n",
              "      }\n",
              "    </script>\n",
              "  </div>\n",
              "\n",
              "\n",
              "<div id=\"df-62501bcc-21c3-4630-b905-a59960e4be91\">\n",
              "  <button class=\"colab-df-quickchart\" onclick=\"quickchart('df-62501bcc-21c3-4630-b905-a59960e4be91')\"\n",
              "            title=\"Suggest charts\"\n",
              "            style=\"display:none;\">\n",
              "\n",
              "<svg xmlns=\"http://www.w3.org/2000/svg\" height=\"24px\"viewBox=\"0 0 24 24\"\n",
              "     width=\"24px\">\n",
              "    <g>\n",
              "        <path d=\"M19 3H5c-1.1 0-2 .9-2 2v14c0 1.1.9 2 2 2h14c1.1 0 2-.9 2-2V5c0-1.1-.9-2-2-2zM9 17H7v-7h2v7zm4 0h-2V7h2v10zm4 0h-2v-4h2v4z\"/>\n",
              "    </g>\n",
              "</svg>\n",
              "  </button>\n",
              "\n",
              "<style>\n",
              "  .colab-df-quickchart {\n",
              "      --bg-color: #E8F0FE;\n",
              "      --fill-color: #1967D2;\n",
              "      --hover-bg-color: #E2EBFA;\n",
              "      --hover-fill-color: #174EA6;\n",
              "      --disabled-fill-color: #AAA;\n",
              "      --disabled-bg-color: #DDD;\n",
              "  }\n",
              "\n",
              "  [theme=dark] .colab-df-quickchart {\n",
              "      --bg-color: #3B4455;\n",
              "      --fill-color: #D2E3FC;\n",
              "      --hover-bg-color: #434B5C;\n",
              "      --hover-fill-color: #FFFFFF;\n",
              "      --disabled-bg-color: #3B4455;\n",
              "      --disabled-fill-color: #666;\n",
              "  }\n",
              "\n",
              "  .colab-df-quickchart {\n",
              "    background-color: var(--bg-color);\n",
              "    border: none;\n",
              "    border-radius: 50%;\n",
              "    cursor: pointer;\n",
              "    display: none;\n",
              "    fill: var(--fill-color);\n",
              "    height: 32px;\n",
              "    padding: 0;\n",
              "    width: 32px;\n",
              "  }\n",
              "\n",
              "  .colab-df-quickchart:hover {\n",
              "    background-color: var(--hover-bg-color);\n",
              "    box-shadow: 0 1px 2px rgba(60, 64, 67, 0.3), 0 1px 3px 1px rgba(60, 64, 67, 0.15);\n",
              "    fill: var(--button-hover-fill-color);\n",
              "  }\n",
              "\n",
              "  .colab-df-quickchart-complete:disabled,\n",
              "  .colab-df-quickchart-complete:disabled:hover {\n",
              "    background-color: var(--disabled-bg-color);\n",
              "    fill: var(--disabled-fill-color);\n",
              "    box-shadow: none;\n",
              "  }\n",
              "\n",
              "  .colab-df-spinner {\n",
              "    border: 2px solid var(--fill-color);\n",
              "    border-color: transparent;\n",
              "    border-bottom-color: var(--fill-color);\n",
              "    animation:\n",
              "      spin 1s steps(1) infinite;\n",
              "  }\n",
              "\n",
              "  @keyframes spin {\n",
              "    0% {\n",
              "      border-color: transparent;\n",
              "      border-bottom-color: var(--fill-color);\n",
              "      border-left-color: var(--fill-color);\n",
              "    }\n",
              "    20% {\n",
              "      border-color: transparent;\n",
              "      border-left-color: var(--fill-color);\n",
              "      border-top-color: var(--fill-color);\n",
              "    }\n",
              "    30% {\n",
              "      border-color: transparent;\n",
              "      border-left-color: var(--fill-color);\n",
              "      border-top-color: var(--fill-color);\n",
              "      border-right-color: var(--fill-color);\n",
              "    }\n",
              "    40% {\n",
              "      border-color: transparent;\n",
              "      border-right-color: var(--fill-color);\n",
              "      border-top-color: var(--fill-color);\n",
              "    }\n",
              "    60% {\n",
              "      border-color: transparent;\n",
              "      border-right-color: var(--fill-color);\n",
              "    }\n",
              "    80% {\n",
              "      border-color: transparent;\n",
              "      border-right-color: var(--fill-color);\n",
              "      border-bottom-color: var(--fill-color);\n",
              "    }\n",
              "    90% {\n",
              "      border-color: transparent;\n",
              "      border-bottom-color: var(--fill-color);\n",
              "    }\n",
              "  }\n",
              "</style>\n",
              "\n",
              "  <script>\n",
              "    async function quickchart(key) {\n",
              "      const quickchartButtonEl =\n",
              "        document.querySelector('#' + key + ' button');\n",
              "      quickchartButtonEl.disabled = true;  // To prevent multiple clicks.\n",
              "      quickchartButtonEl.classList.add('colab-df-spinner');\n",
              "      try {\n",
              "        const charts = await google.colab.kernel.invokeFunction(\n",
              "            'suggestCharts', [key], {});\n",
              "      } catch (error) {\n",
              "        console.error('Error during call to suggestCharts:', error);\n",
              "      }\n",
              "      quickchartButtonEl.classList.remove('colab-df-spinner');\n",
              "      quickchartButtonEl.classList.add('colab-df-quickchart-complete');\n",
              "    }\n",
              "    (() => {\n",
              "      let quickchartButtonEl =\n",
              "        document.querySelector('#df-62501bcc-21c3-4630-b905-a59960e4be91 button');\n",
              "      quickchartButtonEl.style.display =\n",
              "        google.colab.kernel.accessAllowed ? 'block' : 'none';\n",
              "    })();\n",
              "  </script>\n",
              "</div>\n",
              "\n",
              "    </div>\n",
              "  </div>\n"
            ],
            "application/vnd.google.colaboratory.intrinsic+json": {
              "type": "dataframe",
              "variable_name": "df"
            }
          },
          "metadata": {},
          "execution_count": 48
        }
      ],
      "execution_count": 48
    },
    {
      "cell_type": "code",
      "source": [
        "df.shape"
      ],
      "metadata": {
        "trusted": true,
        "execution": {
          "iopub.status.busy": "2025-04-16T01:34:44.164791Z",
          "iopub.execute_input": "2025-04-16T01:34:44.165551Z",
          "iopub.status.idle": "2025-04-16T01:34:44.170043Z",
          "shell.execute_reply.started": "2025-04-16T01:34:44.16552Z",
          "shell.execute_reply": "2025-04-16T01:34:44.16939Z"
        },
        "id": "3d9PttE4Ti58",
        "outputId": "1d783eeb-dfaa-4b9a-ac3c-9ce565af6a54",
        "colab": {
          "base_uri": "https://localhost:8080/"
        }
      },
      "outputs": [
        {
          "output_type": "execute_result",
          "data": {
            "text/plain": [
              "(125973, 43)"
            ]
          },
          "metadata": {},
          "execution_count": 49
        }
      ],
      "execution_count": 49
    },
    {
      "cell_type": "code",
      "source": [
        "df.info()"
      ],
      "metadata": {
        "trusted": true,
        "execution": {
          "iopub.status.busy": "2025-04-16T01:39:12.233236Z",
          "iopub.execute_input": "2025-04-16T01:39:12.233909Z",
          "iopub.status.idle": "2025-04-16T01:39:12.27446Z",
          "shell.execute_reply.started": "2025-04-16T01:39:12.233885Z",
          "shell.execute_reply": "2025-04-16T01:39:12.273732Z"
        },
        "id": "a9NSMCUzTi59",
        "outputId": "a30637f5-e170-47b7-e71d-ccee6f0ad2ef",
        "colab": {
          "base_uri": "https://localhost:8080/"
        }
      },
      "outputs": [
        {
          "output_type": "stream",
          "name": "stdout",
          "text": [
            "<class 'pandas.core.frame.DataFrame'>\n",
            "RangeIndex: 125973 entries, 0 to 125972\n",
            "Data columns (total 43 columns):\n",
            " #   Column                       Non-Null Count   Dtype  \n",
            "---  ------                       --------------   -----  \n",
            " 0   duration                     125973 non-null  int64  \n",
            " 1   protocol_type                125973 non-null  object \n",
            " 2   service                      125973 non-null  object \n",
            " 3   flag                         125973 non-null  object \n",
            " 4   src_bytes                    125973 non-null  int64  \n",
            " 5   dst_bytes                    125973 non-null  int64  \n",
            " 6   land                         125973 non-null  int64  \n",
            " 7   wrong_fragment               125973 non-null  int64  \n",
            " 8   urgent                       125973 non-null  int64  \n",
            " 9   hot                          125973 non-null  int64  \n",
            " 10  num_failed_logins            125973 non-null  int64  \n",
            " 11  logged_in                    125973 non-null  int64  \n",
            " 12  num_compromised              125973 non-null  int64  \n",
            " 13  root_shell                   125973 non-null  int64  \n",
            " 14  su_attempted                 125973 non-null  int64  \n",
            " 15  num_root                     125973 non-null  int64  \n",
            " 16  num_file_creations           125973 non-null  int64  \n",
            " 17  num_shells                   125973 non-null  int64  \n",
            " 18  num_access_files             125973 non-null  int64  \n",
            " 19  num_outbound_cmds            125973 non-null  int64  \n",
            " 20  is_host_login                125973 non-null  int64  \n",
            " 21  is_guest_login               125973 non-null  int64  \n",
            " 22  count                        125973 non-null  int64  \n",
            " 23  srv_count                    125973 non-null  int64  \n",
            " 24  serror_rate                  125973 non-null  float64\n",
            " 25  srv_serror_rate              125973 non-null  float64\n",
            " 26  rerror_rate                  125973 non-null  float64\n",
            " 27  srv_rerror_rate              125973 non-null  float64\n",
            " 28  same_srv_rate                125973 non-null  float64\n",
            " 29  diff_srv_rate                125973 non-null  float64\n",
            " 30  srv_diff_host_rate           125973 non-null  float64\n",
            " 31  dst_host_count               125973 non-null  int64  \n",
            " 32  dst_host_srv_count           125973 non-null  int64  \n",
            " 33  dst_host_same_srv_rate       125973 non-null  float64\n",
            " 34  dst_host_diff_srv_rate       125973 non-null  float64\n",
            " 35  dst_host_same_src_port_rate  125973 non-null  float64\n",
            " 36  dst_host_srv_diff_host_rate  125973 non-null  float64\n",
            " 37  dst_host_serror_rate         125973 non-null  float64\n",
            " 38  dst_host_srv_serror_rate     125973 non-null  float64\n",
            " 39  dst_host_rerror_rate         125973 non-null  float64\n",
            " 40  dst_host_srv_rerror_rate     125973 non-null  float64\n",
            " 41  attack                       125973 non-null  object \n",
            " 42  level                        125973 non-null  int64  \n",
            "dtypes: float64(15), int64(24), object(4)\n",
            "memory usage: 41.3+ MB\n"
          ]
        }
      ],
      "execution_count": 50
    },
    {
      "cell_type": "markdown",
      "source": [
        "# Define feature and target variables"
      ],
      "metadata": {
        "_uuid": "7209611d-70c4-413c-8c85-fb43bb4a64e9",
        "_cell_guid": "2b4093ea-ee1a-439f-9e6b-005ad3b0238c",
        "collapsed": false,
        "execution": {
          "iopub.status.busy": "2025-04-15T03:43:16.876013Z",
          "iopub.execute_input": "2025-04-15T03:43:16.876354Z",
          "iopub.status.idle": "2025-04-15T03:43:16.912149Z",
          "shell.execute_reply.started": "2025-04-15T03:43:16.876322Z",
          "shell.execute_reply": "2025-04-15T03:43:16.91151Z"
        },
        "jupyter": {
          "outputs_hidden": false
        },
        "id": "6XeRZufMTi5-"
      }
    },
    {
      "cell_type": "code",
      "source": [
        "# Split the features and target variables\n",
        "# 'attack' is the main classification target and 'level' is also a label that\n",
        "X = df.drop(columns=[\"attack\", \"level\"], errors='ignore')  # features\n",
        "y = df[\"attack\"].str.replace('.', '', regex=False)  # target variable (cleaned attack labels)"
      ],
      "metadata": {
        "_uuid": "7209611d-70c4-413c-8c85-fb43bb4a64e9",
        "_cell_guid": "2b4093ea-ee1a-439f-9e6b-005ad3b0238c",
        "trusted": true,
        "execution": {
          "iopub.status.busy": "2025-04-16T01:42:44.099467Z",
          "iopub.execute_input": "2025-04-16T01:42:44.100146Z",
          "iopub.status.idle": "2025-04-16T01:42:44.104756Z",
          "shell.execute_reply.started": "2025-04-16T01:42:44.100123Z",
          "shell.execute_reply": "2025-04-16T01:42:44.103848Z"
        },
        "jupyter": {
          "outputs_hidden": false
        },
        "id": "xzLoh6EITi5_"
      },
      "outputs": [],
      "execution_count": 52
    },
    {
      "cell_type": "markdown",
      "source": [
        "# Separate categorical and numerical columns"
      ],
      "metadata": {
        "_uuid": "7b0a2e81-3556-4900-973c-010d0a202349",
        "_cell_guid": "4831d660-00cc-4270-abc4-03e03314c0c4",
        "collapsed": false,
        "execution": {
          "iopub.status.busy": "2025-04-15T03:43:16.912904Z",
          "iopub.execute_input": "2025-04-15T03:43:16.913185Z",
          "iopub.status.idle": "2025-04-15T03:43:16.917344Z",
          "shell.execute_reply.started": "2025-04-15T03:43:16.913159Z",
          "shell.execute_reply": "2025-04-15T03:43:16.916742Z"
        },
        "jupyter": {
          "outputs_hidden": false
        },
        "id": "n21uUEwBTi6A"
      }
    },
    {
      "cell_type": "code",
      "source": [
        "# Separate categorical and numerical columns\n",
        "categorical_cols = X.select_dtypes(include=['object']).columns.tolist()\n",
        "numerical_cols = X.select_dtypes(include=['int64', 'float64']).columns.tolist()\n",
        "\n",
        "print(\"Categorical columns:\", categorical_cols)\n",
        "print(\"Numerical columns:\", numerical_cols)\n"
      ],
      "metadata": {
        "_uuid": "7b0a2e81-3556-4900-973c-010d0a202349",
        "_cell_guid": "4831d660-00cc-4270-abc4-03e03314c0c4",
        "trusted": true,
        "execution": {
          "iopub.status.busy": "2025-04-15T04:18:00.22471Z",
          "iopub.execute_input": "2025-04-15T04:18:00.224971Z",
          "iopub.status.idle": "2025-04-15T04:18:00.229606Z",
          "shell.execute_reply.started": "2025-04-15T04:18:00.224953Z",
          "shell.execute_reply": "2025-04-15T04:18:00.228704Z"
        },
        "jupyter": {
          "outputs_hidden": false
        },
        "id": "Tvxn4CEmTi6B",
        "outputId": "bb260269-f26b-4dbc-be15-d09c979e8a97",
        "colab": {
          "base_uri": "https://localhost:8080/"
        }
      },
      "outputs": [
        {
          "output_type": "stream",
          "name": "stdout",
          "text": [
            "Categorical columns: ['protocol_type', 'service', 'flag']\n",
            "Numerical columns: ['duration', 'src_bytes', 'dst_bytes', 'land', 'wrong_fragment', 'urgent', 'hot', 'num_failed_logins', 'logged_in', 'num_compromised', 'root_shell', 'su_attempted', 'num_root', 'num_file_creations', 'num_shells', 'num_access_files', 'num_outbound_cmds', 'is_host_login', 'is_guest_login', 'count', 'srv_count', 'serror_rate', 'srv_serror_rate', 'rerror_rate', 'srv_rerror_rate', 'same_srv_rate', 'diff_srv_rate', 'srv_diff_host_rate', 'dst_host_count', 'dst_host_srv_count', 'dst_host_same_srv_rate', 'dst_host_diff_srv_rate', 'dst_host_same_src_port_rate', 'dst_host_srv_diff_host_rate', 'dst_host_serror_rate', 'dst_host_srv_serror_rate', 'dst_host_rerror_rate', 'dst_host_srv_rerror_rate']\n"
          ]
        }
      ],
      "execution_count": 53
    },
    {
      "cell_type": "markdown",
      "source": [
        "# Split the data into training and testing sets"
      ],
      "metadata": {
        "_uuid": "a4d96a91-edf5-4e8a-991a-3a4ad3cf9309",
        "_cell_guid": "1b036092-6210-4447-b782-22d891b227f8",
        "collapsed": false,
        "execution": {
          "iopub.status.busy": "2025-04-15T03:43:16.91805Z",
          "iopub.execute_input": "2025-04-15T03:43:16.918213Z",
          "iopub.status.idle": "2025-04-15T03:43:16.97315Z",
          "shell.execute_reply.started": "2025-04-15T03:43:16.918199Z",
          "shell.execute_reply": "2025-04-15T03:43:16.972497Z"
        },
        "jupyter": {
          "outputs_hidden": false
        },
        "id": "6bNpwrUXTi6C"
      }
    },
    {
      "cell_type": "code",
      "source": [
        "X_train, X_test, y_train, y_test = train_test_split(X, y, test_size=0.2, random_state=42)"
      ],
      "metadata": {
        "_uuid": "a4d96a91-edf5-4e8a-991a-3a4ad3cf9309",
        "_cell_guid": "1b036092-6210-4447-b782-22d891b227f8",
        "trusted": true,
        "execution": {
          "iopub.status.busy": "2025-04-15T04:18:00.230287Z",
          "iopub.execute_input": "2025-04-15T04:18:00.230462Z",
          "iopub.status.idle": "2025-04-15T04:18:00.288577Z",
          "shell.execute_reply.started": "2025-04-15T04:18:00.230448Z",
          "shell.execute_reply": "2025-04-15T04:18:00.287584Z"
        },
        "jupyter": {
          "outputs_hidden": false
        },
        "id": "-eOyJbR6Ti6D"
      },
      "outputs": [],
      "execution_count": 56
    },
    {
      "cell_type": "markdown",
      "source": [
        "# Define the preprocessor for categorical and numerical columns"
      ],
      "metadata": {
        "_uuid": "ea6bac84-1881-4400-a8a1-842a8dd14319",
        "_cell_guid": "f5729b2c-9896-403e-9f01-8eda89faac5e",
        "collapsed": false,
        "execution": {
          "iopub.status.busy": "2025-04-15T03:43:16.973906Z",
          "iopub.execute_input": "2025-04-15T03:43:16.974167Z",
          "iopub.status.idle": "2025-04-15T03:43:16.978915Z",
          "shell.execute_reply.started": "2025-04-15T03:43:16.974143Z",
          "shell.execute_reply": "2025-04-15T03:43:16.978022Z"
        },
        "jupyter": {
          "outputs_hidden": false
        },
        "id": "v5Ft7reFTi6E"
      }
    },
    {
      "cell_type": "code",
      "source": [
        "# Define transformers\n",
        "categorical_transformer = OneHotEncoder(handle_unknown='ignore')\n",
        "numerical_transformer = StandardScaler()\n",
        "\n",
        "# Apply transformers to their respective columns\n",
        "preprocessor = ColumnTransformer(\n",
        "    transformers=[\n",
        "        ('cat', categorical_transformer, categorical_cols),\n",
        "        ('num', numerical_transformer, numerical_cols)\n",
        "    ]\n",
        ")"
      ],
      "metadata": {
        "_uuid": "ea6bac84-1881-4400-a8a1-842a8dd14319",
        "_cell_guid": "f5729b2c-9896-403e-9f01-8eda89faac5e",
        "trusted": true,
        "execution": {
          "iopub.status.busy": "2025-04-15T04:18:00.289545Z",
          "iopub.execute_input": "2025-04-15T04:18:00.289847Z",
          "iopub.status.idle": "2025-04-15T04:18:00.294839Z",
          "shell.execute_reply.started": "2025-04-15T04:18:00.289818Z",
          "shell.execute_reply": "2025-04-15T04:18:00.294085Z"
        },
        "jupyter": {
          "outputs_hidden": false
        },
        "id": "3rH4O_NUTi6E"
      },
      "outputs": [],
      "execution_count": 57
    },
    {
      "cell_type": "markdown",
      "source": [
        "\n",
        "\n",
        "---\n",
        "\n",
        "\n",
        "\n",
        "---\n",
        "\n"
      ],
      "metadata": {
        "id": "3VkTnP8Hl9Rq"
      }
    },
    {
      "cell_type": "markdown",
      "source": [
        "# Train a Random Forest classifier"
      ],
      "metadata": {
        "_uuid": "1806eead-3389-4f3d-8638-205e307a8aec",
        "_cell_guid": "feead47d-bb4d-4e3e-8d10-46927ba0dca2",
        "collapsed": false,
        "execution": {
          "iopub.status.busy": "2025-04-15T03:43:16.979795Z",
          "iopub.execute_input": "2025-04-15T03:43:16.980463Z",
          "iopub.status.idle": "2025-04-15T03:43:29.343188Z",
          "shell.execute_reply.started": "2025-04-15T03:43:16.980443Z",
          "shell.execute_reply": "2025-04-15T03:43:29.342303Z"
        },
        "jupyter": {
          "outputs_hidden": false
        },
        "id": "PiOvIbjaTi6F"
      }
    },
    {
      "cell_type": "code",
      "source": [
        "rf_pipeline = Pipeline(steps=[\n",
        "    (\"preprocessor\", preprocessor),\n",
        "    (\"classifier\", RandomForestClassifier(random_state=42))\n",
        "])\n",
        "\n",
        "rf_pipeline.fit(X_train, y_train)\n",
        "\n",
        "print(\"--- Random Forest Multi-Class Classifier ---\")\n",
        "y_pred_rf = rf_pipeline.predict(X_test)\n",
        "print(\"Accuracy:\", accuracy_score(y_test, y_pred_rf))\n",
        "print(classification_report(y_test, y_pred_rf))"
      ],
      "metadata": {
        "_uuid": "1806eead-3389-4f3d-8638-205e307a8aec",
        "_cell_guid": "feead47d-bb4d-4e3e-8d10-46927ba0dca2",
        "trusted": true,
        "execution": {
          "iopub.status.busy": "2025-04-15T04:18:00.295701Z",
          "iopub.execute_input": "2025-04-15T04:18:00.295993Z",
          "iopub.status.idle": "2025-04-15T04:18:11.681848Z",
          "shell.execute_reply.started": "2025-04-15T04:18:00.295968Z",
          "shell.execute_reply": "2025-04-15T04:18:11.680997Z"
        },
        "jupyter": {
          "outputs_hidden": false
        },
        "id": "KxH0fGERTi6F",
        "outputId": "02c49c03-bc2d-4d53-d173-cf445e28b9ae",
        "colab": {
          "base_uri": "https://localhost:8080/"
        }
      },
      "outputs": [
        {
          "output_type": "stream",
          "name": "stdout",
          "text": [
            "--- Random Forest Multi-Class Classifier ---\n",
            "Accuracy: 0.9979360984322286\n",
            "                 precision    recall  f1-score   support\n",
            "\n",
            "           back       1.00      1.00      1.00       185\n",
            "buffer_overflow       1.00      0.33      0.50         9\n",
            "   guess_passwd       1.00      0.91      0.95        11\n",
            "           imap       1.00      1.00      1.00         1\n",
            "        ipsweep       0.99      0.99      0.99       733\n",
            "           land       0.00      0.00      0.00         3\n",
            "       multihop       0.00      0.00      0.00         0\n",
            "        neptune       1.00      1.00      1.00      8228\n",
            "           nmap       0.98      0.99      0.99       313\n",
            "         normal       1.00      1.00      1.00     13422\n",
            "           perl       0.00      0.00      0.00         1\n",
            "            phf       1.00      1.00      1.00         1\n",
            "            pod       1.00      0.93      0.96        43\n",
            "      portsweep       1.00      0.99      1.00       573\n",
            "        rootkit       0.00      0.00      0.00         1\n",
            "          satan       1.00      0.99      0.99       738\n",
            "          smurf       1.00      1.00      1.00       534\n",
            "            spy       0.00      0.00      0.00         1\n",
            "       teardrop       1.00      1.00      1.00       188\n",
            "    warezclient       1.00      0.97      0.98       202\n",
            "    warezmaster       1.00      0.75      0.86         8\n",
            "\n",
            "       accuracy                           1.00     25195\n",
            "      macro avg       0.76      0.71      0.72     25195\n",
            "   weighted avg       1.00      1.00      1.00     25195\n",
            "\n"
          ]
        },
        {
          "output_type": "stream",
          "name": "stderr",
          "text": [
            "/usr/local/lib/python3.11/dist-packages/sklearn/metrics/_classification.py:1565: UndefinedMetricWarning: Precision is ill-defined and being set to 0.0 in labels with no predicted samples. Use `zero_division` parameter to control this behavior.\n",
            "  _warn_prf(average, modifier, f\"{metric.capitalize()} is\", len(result))\n",
            "/usr/local/lib/python3.11/dist-packages/sklearn/metrics/_classification.py:1565: UndefinedMetricWarning: Recall is ill-defined and being set to 0.0 in labels with no true samples. Use `zero_division` parameter to control this behavior.\n",
            "  _warn_prf(average, modifier, f\"{metric.capitalize()} is\", len(result))\n",
            "/usr/local/lib/python3.11/dist-packages/sklearn/metrics/_classification.py:1565: UndefinedMetricWarning: Precision is ill-defined and being set to 0.0 in labels with no predicted samples. Use `zero_division` parameter to control this behavior.\n",
            "  _warn_prf(average, modifier, f\"{metric.capitalize()} is\", len(result))\n",
            "/usr/local/lib/python3.11/dist-packages/sklearn/metrics/_classification.py:1565: UndefinedMetricWarning: Recall is ill-defined and being set to 0.0 in labels with no true samples. Use `zero_division` parameter to control this behavior.\n",
            "  _warn_prf(average, modifier, f\"{metric.capitalize()} is\", len(result))\n",
            "/usr/local/lib/python3.11/dist-packages/sklearn/metrics/_classification.py:1565: UndefinedMetricWarning: Precision is ill-defined and being set to 0.0 in labels with no predicted samples. Use `zero_division` parameter to control this behavior.\n",
            "  _warn_prf(average, modifier, f\"{metric.capitalize()} is\", len(result))\n",
            "/usr/local/lib/python3.11/dist-packages/sklearn/metrics/_classification.py:1565: UndefinedMetricWarning: Recall is ill-defined and being set to 0.0 in labels with no true samples. Use `zero_division` parameter to control this behavior.\n",
            "  _warn_prf(average, modifier, f\"{metric.capitalize()} is\", len(result))\n"
          ]
        }
      ],
      "execution_count": 58
    },
    {
      "cell_type": "code",
      "source": [
        "print(\"Accuracy of RF model:\", accuracy_score(y_test, y_pred_rf))"
      ],
      "metadata": {
        "id": "Zhk69GchcQRx",
        "outputId": "2269e0a9-4ac8-4a30-eb1a-0c12d9ab2b06",
        "colab": {
          "base_uri": "https://localhost:8080/"
        }
      },
      "execution_count": 65,
      "outputs": [
        {
          "output_type": "stream",
          "name": "stdout",
          "text": [
            "Accuracy of RF model: 0.9979360984322286\n"
          ]
        }
      ]
    },
    {
      "cell_type": "markdown",
      "source": [
        "## Save the model using joblib"
      ],
      "metadata": {
        "id": "0HoGBEK5jaZo"
      }
    },
    {
      "cell_type": "code",
      "source": [
        "\n",
        "joblib.dump(rf_pipeline, \"RF_Model.joblib\")\n"
      ],
      "metadata": {
        "id": "0CDk5G9-jVki",
        "outputId": "40589ba7-1ffe-4b92-f2df-692bc836cea9",
        "colab": {
          "base_uri": "https://localhost:8080/"
        }
      },
      "execution_count": 77,
      "outputs": [
        {
          "output_type": "execute_result",
          "data": {
            "text/plain": [
              "['RF_Model.joblib']"
            ]
          },
          "metadata": {},
          "execution_count": 77
        }
      ]
    },
    {
      "cell_type": "markdown",
      "source": [
        "\n",
        "\n",
        "---\n",
        "\n",
        "\n",
        "\n",
        "---\n",
        "\n"
      ],
      "metadata": {
        "id": "Cos-CYRXl5_x"
      }
    },
    {
      "cell_type": "markdown",
      "source": [
        "# Train a Logistic Regression"
      ],
      "metadata": {
        "id": "6TNXClTnj212"
      }
    },
    {
      "cell_type": "markdown",
      "source": [
        "### 1. Define the LR Pipeline"
      ],
      "metadata": {
        "id": "q8pRRENxkCuD"
      }
    },
    {
      "cell_type": "code",
      "source": [
        "lr_pipeline = Pipeline(steps=[\n",
        "    (\"preprocessor\", preprocessor),\n",
        "    (\"classifier\", LogisticRegression(max_iter=1000, random_state=42, multi_class='multinomial'))\n",
        "])"
      ],
      "metadata": {
        "_uuid": "3761744e-e2af-475a-9b34-702d4206d7fa",
        "_cell_guid": "03137ada-6336-4b46-b1c6-6acecc9b1945",
        "trusted": true,
        "execution": {
          "iopub.status.busy": "2025-04-15T04:18:11.784002Z",
          "iopub.execute_input": "2025-04-15T04:18:11.784283Z",
          "iopub.status.idle": "2025-04-15T04:20:23.185338Z",
          "shell.execute_reply.started": "2025-04-15T04:18:11.784259Z",
          "shell.execute_reply": "2025-04-15T04:20:23.184572Z"
        },
        "jupyter": {
          "outputs_hidden": false
        },
        "id": "dFb70J6xTi6H"
      },
      "outputs": [],
      "execution_count": 70
    },
    {
      "cell_type": "markdown",
      "source": [
        "### 2. Train the Model"
      ],
      "metadata": {
        "id": "fMky7bCOkLwq"
      }
    },
    {
      "cell_type": "code",
      "source": [
        "lr_pipeline.fit(X_train, y_train)\n"
      ],
      "metadata": {
        "id": "9pBBDZH4kQL4",
        "outputId": "d9df0e79-e2e0-482f-c0d7-e610436b9d9f",
        "colab": {
          "base_uri": "https://localhost:8080/",
          "height": 303
        }
      },
      "execution_count": 71,
      "outputs": [
        {
          "output_type": "stream",
          "name": "stderr",
          "text": [
            "/usr/local/lib/python3.11/dist-packages/sklearn/linear_model/_logistic.py:1247: FutureWarning: 'multi_class' was deprecated in version 1.5 and will be removed in 1.7. From then on, it will always use 'multinomial'. Leave it to its default value to avoid this warning.\n",
            "  warnings.warn(\n"
          ]
        },
        {
          "output_type": "execute_result",
          "data": {
            "text/plain": [
              "Pipeline(steps=[('preprocessor',\n",
              "                 ColumnTransformer(transformers=[('cat',\n",
              "                                                  OneHotEncoder(handle_unknown='ignore'),\n",
              "                                                  ['protocol_type', 'service',\n",
              "                                                   'flag']),\n",
              "                                                 ('num', StandardScaler(),\n",
              "                                                  ['duration', 'src_bytes',\n",
              "                                                   'dst_bytes', 'land',\n",
              "                                                   'wrong_fragment', 'urgent',\n",
              "                                                   'hot', 'num_failed_logins',\n",
              "                                                   'logged_in',\n",
              "                                                   'num_compromised',\n",
              "                                                   'root_shell', 'su_attempted',\n",
              "                                                   'num_root',\n",
              "                                                   'num_file_creati...\n",
              "                                                   'num_shells',\n",
              "                                                   'num_access_files',\n",
              "                                                   'num_outbound_cmds',\n",
              "                                                   'is_host_login',\n",
              "                                                   'is_guest_login', 'count',\n",
              "                                                   'srv_count', 'serror_rate',\n",
              "                                                   'srv_serror_rate',\n",
              "                                                   'rerror_rate',\n",
              "                                                   'srv_rerror_rate',\n",
              "                                                   'same_srv_rate',\n",
              "                                                   'diff_srv_rate',\n",
              "                                                   'srv_diff_host_rate',\n",
              "                                                   'dst_host_count',\n",
              "                                                   'dst_host_srv_count', ...])])),\n",
              "                ('classifier',\n",
              "                 LogisticRegression(max_iter=1000, multi_class='multinomial',\n",
              "                                    random_state=42))])"
            ],
            "text/html": [
              "<style>#sk-container-id-1 {\n",
              "  /* Definition of color scheme common for light and dark mode */\n",
              "  --sklearn-color-text: #000;\n",
              "  --sklearn-color-text-muted: #666;\n",
              "  --sklearn-color-line: gray;\n",
              "  /* Definition of color scheme for unfitted estimators */\n",
              "  --sklearn-color-unfitted-level-0: #fff5e6;\n",
              "  --sklearn-color-unfitted-level-1: #f6e4d2;\n",
              "  --sklearn-color-unfitted-level-2: #ffe0b3;\n",
              "  --sklearn-color-unfitted-level-3: chocolate;\n",
              "  /* Definition of color scheme for fitted estimators */\n",
              "  --sklearn-color-fitted-level-0: #f0f8ff;\n",
              "  --sklearn-color-fitted-level-1: #d4ebff;\n",
              "  --sklearn-color-fitted-level-2: #b3dbfd;\n",
              "  --sklearn-color-fitted-level-3: cornflowerblue;\n",
              "\n",
              "  /* Specific color for light theme */\n",
              "  --sklearn-color-text-on-default-background: var(--sg-text-color, var(--theme-code-foreground, var(--jp-content-font-color1, black)));\n",
              "  --sklearn-color-background: var(--sg-background-color, var(--theme-background, var(--jp-layout-color0, white)));\n",
              "  --sklearn-color-border-box: var(--sg-text-color, var(--theme-code-foreground, var(--jp-content-font-color1, black)));\n",
              "  --sklearn-color-icon: #696969;\n",
              "\n",
              "  @media (prefers-color-scheme: dark) {\n",
              "    /* Redefinition of color scheme for dark theme */\n",
              "    --sklearn-color-text-on-default-background: var(--sg-text-color, var(--theme-code-foreground, var(--jp-content-font-color1, white)));\n",
              "    --sklearn-color-background: var(--sg-background-color, var(--theme-background, var(--jp-layout-color0, #111)));\n",
              "    --sklearn-color-border-box: var(--sg-text-color, var(--theme-code-foreground, var(--jp-content-font-color1, white)));\n",
              "    --sklearn-color-icon: #878787;\n",
              "  }\n",
              "}\n",
              "\n",
              "#sk-container-id-1 {\n",
              "  color: var(--sklearn-color-text);\n",
              "}\n",
              "\n",
              "#sk-container-id-1 pre {\n",
              "  padding: 0;\n",
              "}\n",
              "\n",
              "#sk-container-id-1 input.sk-hidden--visually {\n",
              "  border: 0;\n",
              "  clip: rect(1px 1px 1px 1px);\n",
              "  clip: rect(1px, 1px, 1px, 1px);\n",
              "  height: 1px;\n",
              "  margin: -1px;\n",
              "  overflow: hidden;\n",
              "  padding: 0;\n",
              "  position: absolute;\n",
              "  width: 1px;\n",
              "}\n",
              "\n",
              "#sk-container-id-1 div.sk-dashed-wrapped {\n",
              "  border: 1px dashed var(--sklearn-color-line);\n",
              "  margin: 0 0.4em 0.5em 0.4em;\n",
              "  box-sizing: border-box;\n",
              "  padding-bottom: 0.4em;\n",
              "  background-color: var(--sklearn-color-background);\n",
              "}\n",
              "\n",
              "#sk-container-id-1 div.sk-container {\n",
              "  /* jupyter's `normalize.less` sets `[hidden] { display: none; }`\n",
              "     but bootstrap.min.css set `[hidden] { display: none !important; }`\n",
              "     so we also need the `!important` here to be able to override the\n",
              "     default hidden behavior on the sphinx rendered scikit-learn.org.\n",
              "     See: https://github.com/scikit-learn/scikit-learn/issues/21755 */\n",
              "  display: inline-block !important;\n",
              "  position: relative;\n",
              "}\n",
              "\n",
              "#sk-container-id-1 div.sk-text-repr-fallback {\n",
              "  display: none;\n",
              "}\n",
              "\n",
              "div.sk-parallel-item,\n",
              "div.sk-serial,\n",
              "div.sk-item {\n",
              "  /* draw centered vertical line to link estimators */\n",
              "  background-image: linear-gradient(var(--sklearn-color-text-on-default-background), var(--sklearn-color-text-on-default-background));\n",
              "  background-size: 2px 100%;\n",
              "  background-repeat: no-repeat;\n",
              "  background-position: center center;\n",
              "}\n",
              "\n",
              "/* Parallel-specific style estimator block */\n",
              "\n",
              "#sk-container-id-1 div.sk-parallel-item::after {\n",
              "  content: \"\";\n",
              "  width: 100%;\n",
              "  border-bottom: 2px solid var(--sklearn-color-text-on-default-background);\n",
              "  flex-grow: 1;\n",
              "}\n",
              "\n",
              "#sk-container-id-1 div.sk-parallel {\n",
              "  display: flex;\n",
              "  align-items: stretch;\n",
              "  justify-content: center;\n",
              "  background-color: var(--sklearn-color-background);\n",
              "  position: relative;\n",
              "}\n",
              "\n",
              "#sk-container-id-1 div.sk-parallel-item {\n",
              "  display: flex;\n",
              "  flex-direction: column;\n",
              "}\n",
              "\n",
              "#sk-container-id-1 div.sk-parallel-item:first-child::after {\n",
              "  align-self: flex-end;\n",
              "  width: 50%;\n",
              "}\n",
              "\n",
              "#sk-container-id-1 div.sk-parallel-item:last-child::after {\n",
              "  align-self: flex-start;\n",
              "  width: 50%;\n",
              "}\n",
              "\n",
              "#sk-container-id-1 div.sk-parallel-item:only-child::after {\n",
              "  width: 0;\n",
              "}\n",
              "\n",
              "/* Serial-specific style estimator block */\n",
              "\n",
              "#sk-container-id-1 div.sk-serial {\n",
              "  display: flex;\n",
              "  flex-direction: column;\n",
              "  align-items: center;\n",
              "  background-color: var(--sklearn-color-background);\n",
              "  padding-right: 1em;\n",
              "  padding-left: 1em;\n",
              "}\n",
              "\n",
              "\n",
              "/* Toggleable style: style used for estimator/Pipeline/ColumnTransformer box that is\n",
              "clickable and can be expanded/collapsed.\n",
              "- Pipeline and ColumnTransformer use this feature and define the default style\n",
              "- Estimators will overwrite some part of the style using the `sk-estimator` class\n",
              "*/\n",
              "\n",
              "/* Pipeline and ColumnTransformer style (default) */\n",
              "\n",
              "#sk-container-id-1 div.sk-toggleable {\n",
              "  /* Default theme specific background. It is overwritten whether we have a\n",
              "  specific estimator or a Pipeline/ColumnTransformer */\n",
              "  background-color: var(--sklearn-color-background);\n",
              "}\n",
              "\n",
              "/* Toggleable label */\n",
              "#sk-container-id-1 label.sk-toggleable__label {\n",
              "  cursor: pointer;\n",
              "  display: flex;\n",
              "  width: 100%;\n",
              "  margin-bottom: 0;\n",
              "  padding: 0.5em;\n",
              "  box-sizing: border-box;\n",
              "  text-align: center;\n",
              "  align-items: start;\n",
              "  justify-content: space-between;\n",
              "  gap: 0.5em;\n",
              "}\n",
              "\n",
              "#sk-container-id-1 label.sk-toggleable__label .caption {\n",
              "  font-size: 0.6rem;\n",
              "  font-weight: lighter;\n",
              "  color: var(--sklearn-color-text-muted);\n",
              "}\n",
              "\n",
              "#sk-container-id-1 label.sk-toggleable__label-arrow:before {\n",
              "  /* Arrow on the left of the label */\n",
              "  content: \"▸\";\n",
              "  float: left;\n",
              "  margin-right: 0.25em;\n",
              "  color: var(--sklearn-color-icon);\n",
              "}\n",
              "\n",
              "#sk-container-id-1 label.sk-toggleable__label-arrow:hover:before {\n",
              "  color: var(--sklearn-color-text);\n",
              "}\n",
              "\n",
              "/* Toggleable content - dropdown */\n",
              "\n",
              "#sk-container-id-1 div.sk-toggleable__content {\n",
              "  max-height: 0;\n",
              "  max-width: 0;\n",
              "  overflow: hidden;\n",
              "  text-align: left;\n",
              "  /* unfitted */\n",
              "  background-color: var(--sklearn-color-unfitted-level-0);\n",
              "}\n",
              "\n",
              "#sk-container-id-1 div.sk-toggleable__content.fitted {\n",
              "  /* fitted */\n",
              "  background-color: var(--sklearn-color-fitted-level-0);\n",
              "}\n",
              "\n",
              "#sk-container-id-1 div.sk-toggleable__content pre {\n",
              "  margin: 0.2em;\n",
              "  border-radius: 0.25em;\n",
              "  color: var(--sklearn-color-text);\n",
              "  /* unfitted */\n",
              "  background-color: var(--sklearn-color-unfitted-level-0);\n",
              "}\n",
              "\n",
              "#sk-container-id-1 div.sk-toggleable__content.fitted pre {\n",
              "  /* unfitted */\n",
              "  background-color: var(--sklearn-color-fitted-level-0);\n",
              "}\n",
              "\n",
              "#sk-container-id-1 input.sk-toggleable__control:checked~div.sk-toggleable__content {\n",
              "  /* Expand drop-down */\n",
              "  max-height: 200px;\n",
              "  max-width: 100%;\n",
              "  overflow: auto;\n",
              "}\n",
              "\n",
              "#sk-container-id-1 input.sk-toggleable__control:checked~label.sk-toggleable__label-arrow:before {\n",
              "  content: \"▾\";\n",
              "}\n",
              "\n",
              "/* Pipeline/ColumnTransformer-specific style */\n",
              "\n",
              "#sk-container-id-1 div.sk-label input.sk-toggleable__control:checked~label.sk-toggleable__label {\n",
              "  color: var(--sklearn-color-text);\n",
              "  background-color: var(--sklearn-color-unfitted-level-2);\n",
              "}\n",
              "\n",
              "#sk-container-id-1 div.sk-label.fitted input.sk-toggleable__control:checked~label.sk-toggleable__label {\n",
              "  background-color: var(--sklearn-color-fitted-level-2);\n",
              "}\n",
              "\n",
              "/* Estimator-specific style */\n",
              "\n",
              "/* Colorize estimator box */\n",
              "#sk-container-id-1 div.sk-estimator input.sk-toggleable__control:checked~label.sk-toggleable__label {\n",
              "  /* unfitted */\n",
              "  background-color: var(--sklearn-color-unfitted-level-2);\n",
              "}\n",
              "\n",
              "#sk-container-id-1 div.sk-estimator.fitted input.sk-toggleable__control:checked~label.sk-toggleable__label {\n",
              "  /* fitted */\n",
              "  background-color: var(--sklearn-color-fitted-level-2);\n",
              "}\n",
              "\n",
              "#sk-container-id-1 div.sk-label label.sk-toggleable__label,\n",
              "#sk-container-id-1 div.sk-label label {\n",
              "  /* The background is the default theme color */\n",
              "  color: var(--sklearn-color-text-on-default-background);\n",
              "}\n",
              "\n",
              "/* On hover, darken the color of the background */\n",
              "#sk-container-id-1 div.sk-label:hover label.sk-toggleable__label {\n",
              "  color: var(--sklearn-color-text);\n",
              "  background-color: var(--sklearn-color-unfitted-level-2);\n",
              "}\n",
              "\n",
              "/* Label box, darken color on hover, fitted */\n",
              "#sk-container-id-1 div.sk-label.fitted:hover label.sk-toggleable__label.fitted {\n",
              "  color: var(--sklearn-color-text);\n",
              "  background-color: var(--sklearn-color-fitted-level-2);\n",
              "}\n",
              "\n",
              "/* Estimator label */\n",
              "\n",
              "#sk-container-id-1 div.sk-label label {\n",
              "  font-family: monospace;\n",
              "  font-weight: bold;\n",
              "  display: inline-block;\n",
              "  line-height: 1.2em;\n",
              "}\n",
              "\n",
              "#sk-container-id-1 div.sk-label-container {\n",
              "  text-align: center;\n",
              "}\n",
              "\n",
              "/* Estimator-specific */\n",
              "#sk-container-id-1 div.sk-estimator {\n",
              "  font-family: monospace;\n",
              "  border: 1px dotted var(--sklearn-color-border-box);\n",
              "  border-radius: 0.25em;\n",
              "  box-sizing: border-box;\n",
              "  margin-bottom: 0.5em;\n",
              "  /* unfitted */\n",
              "  background-color: var(--sklearn-color-unfitted-level-0);\n",
              "}\n",
              "\n",
              "#sk-container-id-1 div.sk-estimator.fitted {\n",
              "  /* fitted */\n",
              "  background-color: var(--sklearn-color-fitted-level-0);\n",
              "}\n",
              "\n",
              "/* on hover */\n",
              "#sk-container-id-1 div.sk-estimator:hover {\n",
              "  /* unfitted */\n",
              "  background-color: var(--sklearn-color-unfitted-level-2);\n",
              "}\n",
              "\n",
              "#sk-container-id-1 div.sk-estimator.fitted:hover {\n",
              "  /* fitted */\n",
              "  background-color: var(--sklearn-color-fitted-level-2);\n",
              "}\n",
              "\n",
              "/* Specification for estimator info (e.g. \"i\" and \"?\") */\n",
              "\n",
              "/* Common style for \"i\" and \"?\" */\n",
              "\n",
              ".sk-estimator-doc-link,\n",
              "a:link.sk-estimator-doc-link,\n",
              "a:visited.sk-estimator-doc-link {\n",
              "  float: right;\n",
              "  font-size: smaller;\n",
              "  line-height: 1em;\n",
              "  font-family: monospace;\n",
              "  background-color: var(--sklearn-color-background);\n",
              "  border-radius: 1em;\n",
              "  height: 1em;\n",
              "  width: 1em;\n",
              "  text-decoration: none !important;\n",
              "  margin-left: 0.5em;\n",
              "  text-align: center;\n",
              "  /* unfitted */\n",
              "  border: var(--sklearn-color-unfitted-level-1) 1pt solid;\n",
              "  color: var(--sklearn-color-unfitted-level-1);\n",
              "}\n",
              "\n",
              ".sk-estimator-doc-link.fitted,\n",
              "a:link.sk-estimator-doc-link.fitted,\n",
              "a:visited.sk-estimator-doc-link.fitted {\n",
              "  /* fitted */\n",
              "  border: var(--sklearn-color-fitted-level-1) 1pt solid;\n",
              "  color: var(--sklearn-color-fitted-level-1);\n",
              "}\n",
              "\n",
              "/* On hover */\n",
              "div.sk-estimator:hover .sk-estimator-doc-link:hover,\n",
              ".sk-estimator-doc-link:hover,\n",
              "div.sk-label-container:hover .sk-estimator-doc-link:hover,\n",
              ".sk-estimator-doc-link:hover {\n",
              "  /* unfitted */\n",
              "  background-color: var(--sklearn-color-unfitted-level-3);\n",
              "  color: var(--sklearn-color-background);\n",
              "  text-decoration: none;\n",
              "}\n",
              "\n",
              "div.sk-estimator.fitted:hover .sk-estimator-doc-link.fitted:hover,\n",
              ".sk-estimator-doc-link.fitted:hover,\n",
              "div.sk-label-container:hover .sk-estimator-doc-link.fitted:hover,\n",
              ".sk-estimator-doc-link.fitted:hover {\n",
              "  /* fitted */\n",
              "  background-color: var(--sklearn-color-fitted-level-3);\n",
              "  color: var(--sklearn-color-background);\n",
              "  text-decoration: none;\n",
              "}\n",
              "\n",
              "/* Span, style for the box shown on hovering the info icon */\n",
              ".sk-estimator-doc-link span {\n",
              "  display: none;\n",
              "  z-index: 9999;\n",
              "  position: relative;\n",
              "  font-weight: normal;\n",
              "  right: .2ex;\n",
              "  padding: .5ex;\n",
              "  margin: .5ex;\n",
              "  width: min-content;\n",
              "  min-width: 20ex;\n",
              "  max-width: 50ex;\n",
              "  color: var(--sklearn-color-text);\n",
              "  box-shadow: 2pt 2pt 4pt #999;\n",
              "  /* unfitted */\n",
              "  background: var(--sklearn-color-unfitted-level-0);\n",
              "  border: .5pt solid var(--sklearn-color-unfitted-level-3);\n",
              "}\n",
              "\n",
              ".sk-estimator-doc-link.fitted span {\n",
              "  /* fitted */\n",
              "  background: var(--sklearn-color-fitted-level-0);\n",
              "  border: var(--sklearn-color-fitted-level-3);\n",
              "}\n",
              "\n",
              ".sk-estimator-doc-link:hover span {\n",
              "  display: block;\n",
              "}\n",
              "\n",
              "/* \"?\"-specific style due to the `<a>` HTML tag */\n",
              "\n",
              "#sk-container-id-1 a.estimator_doc_link {\n",
              "  float: right;\n",
              "  font-size: 1rem;\n",
              "  line-height: 1em;\n",
              "  font-family: monospace;\n",
              "  background-color: var(--sklearn-color-background);\n",
              "  border-radius: 1rem;\n",
              "  height: 1rem;\n",
              "  width: 1rem;\n",
              "  text-decoration: none;\n",
              "  /* unfitted */\n",
              "  color: var(--sklearn-color-unfitted-level-1);\n",
              "  border: var(--sklearn-color-unfitted-level-1) 1pt solid;\n",
              "}\n",
              "\n",
              "#sk-container-id-1 a.estimator_doc_link.fitted {\n",
              "  /* fitted */\n",
              "  border: var(--sklearn-color-fitted-level-1) 1pt solid;\n",
              "  color: var(--sklearn-color-fitted-level-1);\n",
              "}\n",
              "\n",
              "/* On hover */\n",
              "#sk-container-id-1 a.estimator_doc_link:hover {\n",
              "  /* unfitted */\n",
              "  background-color: var(--sklearn-color-unfitted-level-3);\n",
              "  color: var(--sklearn-color-background);\n",
              "  text-decoration: none;\n",
              "}\n",
              "\n",
              "#sk-container-id-1 a.estimator_doc_link.fitted:hover {\n",
              "  /* fitted */\n",
              "  background-color: var(--sklearn-color-fitted-level-3);\n",
              "}\n",
              "</style><div id=\"sk-container-id-1\" class=\"sk-top-container\"><div class=\"sk-text-repr-fallback\"><pre>Pipeline(steps=[(&#x27;preprocessor&#x27;,\n",
              "                 ColumnTransformer(transformers=[(&#x27;cat&#x27;,\n",
              "                                                  OneHotEncoder(handle_unknown=&#x27;ignore&#x27;),\n",
              "                                                  [&#x27;protocol_type&#x27;, &#x27;service&#x27;,\n",
              "                                                   &#x27;flag&#x27;]),\n",
              "                                                 (&#x27;num&#x27;, StandardScaler(),\n",
              "                                                  [&#x27;duration&#x27;, &#x27;src_bytes&#x27;,\n",
              "                                                   &#x27;dst_bytes&#x27;, &#x27;land&#x27;,\n",
              "                                                   &#x27;wrong_fragment&#x27;, &#x27;urgent&#x27;,\n",
              "                                                   &#x27;hot&#x27;, &#x27;num_failed_logins&#x27;,\n",
              "                                                   &#x27;logged_in&#x27;,\n",
              "                                                   &#x27;num_compromised&#x27;,\n",
              "                                                   &#x27;root_shell&#x27;, &#x27;su_attempted&#x27;,\n",
              "                                                   &#x27;num_root&#x27;,\n",
              "                                                   &#x27;num_file_creati...\n",
              "                                                   &#x27;num_shells&#x27;,\n",
              "                                                   &#x27;num_access_files&#x27;,\n",
              "                                                   &#x27;num_outbound_cmds&#x27;,\n",
              "                                                   &#x27;is_host_login&#x27;,\n",
              "                                                   &#x27;is_guest_login&#x27;, &#x27;count&#x27;,\n",
              "                                                   &#x27;srv_count&#x27;, &#x27;serror_rate&#x27;,\n",
              "                                                   &#x27;srv_serror_rate&#x27;,\n",
              "                                                   &#x27;rerror_rate&#x27;,\n",
              "                                                   &#x27;srv_rerror_rate&#x27;,\n",
              "                                                   &#x27;same_srv_rate&#x27;,\n",
              "                                                   &#x27;diff_srv_rate&#x27;,\n",
              "                                                   &#x27;srv_diff_host_rate&#x27;,\n",
              "                                                   &#x27;dst_host_count&#x27;,\n",
              "                                                   &#x27;dst_host_srv_count&#x27;, ...])])),\n",
              "                (&#x27;classifier&#x27;,\n",
              "                 LogisticRegression(max_iter=1000, multi_class=&#x27;multinomial&#x27;,\n",
              "                                    random_state=42))])</pre><b>In a Jupyter environment, please rerun this cell to show the HTML representation or trust the notebook. <br />On GitHub, the HTML representation is unable to render, please try loading this page with nbviewer.org.</b></div><div class=\"sk-container\" hidden><div class=\"sk-item sk-dashed-wrapped\"><div class=\"sk-label-container\"><div class=\"sk-label fitted sk-toggleable\"><input class=\"sk-toggleable__control sk-hidden--visually\" id=\"sk-estimator-id-1\" type=\"checkbox\" ><label for=\"sk-estimator-id-1\" class=\"sk-toggleable__label fitted sk-toggleable__label-arrow\"><div><div>Pipeline</div></div><div><a class=\"sk-estimator-doc-link fitted\" rel=\"noreferrer\" target=\"_blank\" href=\"https://scikit-learn.org/1.6/modules/generated/sklearn.pipeline.Pipeline.html\">?<span>Documentation for Pipeline</span></a><span class=\"sk-estimator-doc-link fitted\">i<span>Fitted</span></span></div></label><div class=\"sk-toggleable__content fitted\"><pre>Pipeline(steps=[(&#x27;preprocessor&#x27;,\n",
              "                 ColumnTransformer(transformers=[(&#x27;cat&#x27;,\n",
              "                                                  OneHotEncoder(handle_unknown=&#x27;ignore&#x27;),\n",
              "                                                  [&#x27;protocol_type&#x27;, &#x27;service&#x27;,\n",
              "                                                   &#x27;flag&#x27;]),\n",
              "                                                 (&#x27;num&#x27;, StandardScaler(),\n",
              "                                                  [&#x27;duration&#x27;, &#x27;src_bytes&#x27;,\n",
              "                                                   &#x27;dst_bytes&#x27;, &#x27;land&#x27;,\n",
              "                                                   &#x27;wrong_fragment&#x27;, &#x27;urgent&#x27;,\n",
              "                                                   &#x27;hot&#x27;, &#x27;num_failed_logins&#x27;,\n",
              "                                                   &#x27;logged_in&#x27;,\n",
              "                                                   &#x27;num_compromised&#x27;,\n",
              "                                                   &#x27;root_shell&#x27;, &#x27;su_attempted&#x27;,\n",
              "                                                   &#x27;num_root&#x27;,\n",
              "                                                   &#x27;num_file_creati...\n",
              "                                                   &#x27;num_shells&#x27;,\n",
              "                                                   &#x27;num_access_files&#x27;,\n",
              "                                                   &#x27;num_outbound_cmds&#x27;,\n",
              "                                                   &#x27;is_host_login&#x27;,\n",
              "                                                   &#x27;is_guest_login&#x27;, &#x27;count&#x27;,\n",
              "                                                   &#x27;srv_count&#x27;, &#x27;serror_rate&#x27;,\n",
              "                                                   &#x27;srv_serror_rate&#x27;,\n",
              "                                                   &#x27;rerror_rate&#x27;,\n",
              "                                                   &#x27;srv_rerror_rate&#x27;,\n",
              "                                                   &#x27;same_srv_rate&#x27;,\n",
              "                                                   &#x27;diff_srv_rate&#x27;,\n",
              "                                                   &#x27;srv_diff_host_rate&#x27;,\n",
              "                                                   &#x27;dst_host_count&#x27;,\n",
              "                                                   &#x27;dst_host_srv_count&#x27;, ...])])),\n",
              "                (&#x27;classifier&#x27;,\n",
              "                 LogisticRegression(max_iter=1000, multi_class=&#x27;multinomial&#x27;,\n",
              "                                    random_state=42))])</pre></div> </div></div><div class=\"sk-serial\"><div class=\"sk-item sk-dashed-wrapped\"><div class=\"sk-label-container\"><div class=\"sk-label fitted sk-toggleable\"><input class=\"sk-toggleable__control sk-hidden--visually\" id=\"sk-estimator-id-2\" type=\"checkbox\" ><label for=\"sk-estimator-id-2\" class=\"sk-toggleable__label fitted sk-toggleable__label-arrow\"><div><div>preprocessor: ColumnTransformer</div></div><div><a class=\"sk-estimator-doc-link fitted\" rel=\"noreferrer\" target=\"_blank\" href=\"https://scikit-learn.org/1.6/modules/generated/sklearn.compose.ColumnTransformer.html\">?<span>Documentation for preprocessor: ColumnTransformer</span></a></div></label><div class=\"sk-toggleable__content fitted\"><pre>ColumnTransformer(transformers=[(&#x27;cat&#x27;, OneHotEncoder(handle_unknown=&#x27;ignore&#x27;),\n",
              "                                 [&#x27;protocol_type&#x27;, &#x27;service&#x27;, &#x27;flag&#x27;]),\n",
              "                                (&#x27;num&#x27;, StandardScaler(),\n",
              "                                 [&#x27;duration&#x27;, &#x27;src_bytes&#x27;, &#x27;dst_bytes&#x27;, &#x27;land&#x27;,\n",
              "                                  &#x27;wrong_fragment&#x27;, &#x27;urgent&#x27;, &#x27;hot&#x27;,\n",
              "                                  &#x27;num_failed_logins&#x27;, &#x27;logged_in&#x27;,\n",
              "                                  &#x27;num_compromised&#x27;, &#x27;root_shell&#x27;,\n",
              "                                  &#x27;su_attempted&#x27;, &#x27;num_root&#x27;,\n",
              "                                  &#x27;num_file_creations&#x27;, &#x27;num_shells&#x27;,\n",
              "                                  &#x27;num_access_files&#x27;, &#x27;num_outbound_cmds&#x27;,\n",
              "                                  &#x27;is_host_login&#x27;, &#x27;is_guest_login&#x27;, &#x27;count&#x27;,\n",
              "                                  &#x27;srv_count&#x27;, &#x27;serror_rate&#x27;, &#x27;srv_serror_rate&#x27;,\n",
              "                                  &#x27;rerror_rate&#x27;, &#x27;srv_rerror_rate&#x27;,\n",
              "                                  &#x27;same_srv_rate&#x27;, &#x27;diff_srv_rate&#x27;,\n",
              "                                  &#x27;srv_diff_host_rate&#x27;, &#x27;dst_host_count&#x27;,\n",
              "                                  &#x27;dst_host_srv_count&#x27;, ...])])</pre></div> </div></div><div class=\"sk-parallel\"><div class=\"sk-parallel-item\"><div class=\"sk-item\"><div class=\"sk-label-container\"><div class=\"sk-label fitted sk-toggleable\"><input class=\"sk-toggleable__control sk-hidden--visually\" id=\"sk-estimator-id-3\" type=\"checkbox\" ><label for=\"sk-estimator-id-3\" class=\"sk-toggleable__label fitted sk-toggleable__label-arrow\"><div><div>cat</div></div></label><div class=\"sk-toggleable__content fitted\"><pre>[&#x27;protocol_type&#x27;, &#x27;service&#x27;, &#x27;flag&#x27;]</pre></div> </div></div><div class=\"sk-serial\"><div class=\"sk-item\"><div class=\"sk-estimator fitted sk-toggleable\"><input class=\"sk-toggleable__control sk-hidden--visually\" id=\"sk-estimator-id-4\" type=\"checkbox\" ><label for=\"sk-estimator-id-4\" class=\"sk-toggleable__label fitted sk-toggleable__label-arrow\"><div><div>OneHotEncoder</div></div><div><a class=\"sk-estimator-doc-link fitted\" rel=\"noreferrer\" target=\"_blank\" href=\"https://scikit-learn.org/1.6/modules/generated/sklearn.preprocessing.OneHotEncoder.html\">?<span>Documentation for OneHotEncoder</span></a></div></label><div class=\"sk-toggleable__content fitted\"><pre>OneHotEncoder(handle_unknown=&#x27;ignore&#x27;)</pre></div> </div></div></div></div></div><div class=\"sk-parallel-item\"><div class=\"sk-item\"><div class=\"sk-label-container\"><div class=\"sk-label fitted sk-toggleable\"><input class=\"sk-toggleable__control sk-hidden--visually\" id=\"sk-estimator-id-5\" type=\"checkbox\" ><label for=\"sk-estimator-id-5\" class=\"sk-toggleable__label fitted sk-toggleable__label-arrow\"><div><div>num</div></div></label><div class=\"sk-toggleable__content fitted\"><pre>[&#x27;duration&#x27;, &#x27;src_bytes&#x27;, &#x27;dst_bytes&#x27;, &#x27;land&#x27;, &#x27;wrong_fragment&#x27;, &#x27;urgent&#x27;, &#x27;hot&#x27;, &#x27;num_failed_logins&#x27;, &#x27;logged_in&#x27;, &#x27;num_compromised&#x27;, &#x27;root_shell&#x27;, &#x27;su_attempted&#x27;, &#x27;num_root&#x27;, &#x27;num_file_creations&#x27;, &#x27;num_shells&#x27;, &#x27;num_access_files&#x27;, &#x27;num_outbound_cmds&#x27;, &#x27;is_host_login&#x27;, &#x27;is_guest_login&#x27;, &#x27;count&#x27;, &#x27;srv_count&#x27;, &#x27;serror_rate&#x27;, &#x27;srv_serror_rate&#x27;, &#x27;rerror_rate&#x27;, &#x27;srv_rerror_rate&#x27;, &#x27;same_srv_rate&#x27;, &#x27;diff_srv_rate&#x27;, &#x27;srv_diff_host_rate&#x27;, &#x27;dst_host_count&#x27;, &#x27;dst_host_srv_count&#x27;, &#x27;dst_host_same_srv_rate&#x27;, &#x27;dst_host_diff_srv_rate&#x27;, &#x27;dst_host_same_src_port_rate&#x27;, &#x27;dst_host_srv_diff_host_rate&#x27;, &#x27;dst_host_serror_rate&#x27;, &#x27;dst_host_srv_serror_rate&#x27;, &#x27;dst_host_rerror_rate&#x27;, &#x27;dst_host_srv_rerror_rate&#x27;]</pre></div> </div></div><div class=\"sk-serial\"><div class=\"sk-item\"><div class=\"sk-estimator fitted sk-toggleable\"><input class=\"sk-toggleable__control sk-hidden--visually\" id=\"sk-estimator-id-6\" type=\"checkbox\" ><label for=\"sk-estimator-id-6\" class=\"sk-toggleable__label fitted sk-toggleable__label-arrow\"><div><div>StandardScaler</div></div><div><a class=\"sk-estimator-doc-link fitted\" rel=\"noreferrer\" target=\"_blank\" href=\"https://scikit-learn.org/1.6/modules/generated/sklearn.preprocessing.StandardScaler.html\">?<span>Documentation for StandardScaler</span></a></div></label><div class=\"sk-toggleable__content fitted\"><pre>StandardScaler()</pre></div> </div></div></div></div></div></div></div><div class=\"sk-item\"><div class=\"sk-estimator fitted sk-toggleable\"><input class=\"sk-toggleable__control sk-hidden--visually\" id=\"sk-estimator-id-7\" type=\"checkbox\" ><label for=\"sk-estimator-id-7\" class=\"sk-toggleable__label fitted sk-toggleable__label-arrow\"><div><div>LogisticRegression</div></div><div><a class=\"sk-estimator-doc-link fitted\" rel=\"noreferrer\" target=\"_blank\" href=\"https://scikit-learn.org/1.6/modules/generated/sklearn.linear_model.LogisticRegression.html\">?<span>Documentation for LogisticRegression</span></a></div></label><div class=\"sk-toggleable__content fitted\"><pre>LogisticRegression(max_iter=1000, multi_class=&#x27;multinomial&#x27;, random_state=42)</pre></div> </div></div></div></div></div></div>"
            ]
          },
          "metadata": {},
          "execution_count": 71
        }
      ]
    },
    {
      "cell_type": "markdown",
      "source": [
        "### 3. Evaluate the Model"
      ],
      "metadata": {
        "id": "5uSdmWzukYk3"
      }
    },
    {
      "cell_type": "code",
      "source": [
        "print(\"\\n--- Logistic Regression Multi-Class Classifier ---\")\n",
        "y_pred_lr = lr_pipeline.predict(X_test)\n",
        "print(\"Accuracy:\", accuracy_score(y_test, y_pred_lr))\n",
        "print(classification_report(y_test, y_pred_lr))"
      ],
      "metadata": {
        "id": "WT5zqHIZkWSQ",
        "outputId": "f120d57e-f7c3-4ee3-caf5-7d2e53e28ae1",
        "colab": {
          "base_uri": "https://localhost:8080/"
        }
      },
      "execution_count": 74,
      "outputs": [
        {
          "output_type": "stream",
          "name": "stdout",
          "text": [
            "\n",
            "--- Logistic Regression Multi-Class Classifier ---\n",
            "Accuracy: 0.9912284183369716\n",
            "                 precision    recall  f1-score   support\n",
            "\n",
            "           back       0.97      0.98      0.98       185\n",
            "buffer_overflow       1.00      0.22      0.36         9\n",
            "   guess_passwd       0.83      0.91      0.87        11\n",
            "           imap       0.50      1.00      0.67         1\n",
            "        ipsweep       0.96      0.97      0.97       733\n",
            "           land       0.60      1.00      0.75         3\n",
            "     loadmodule       0.00      0.00      0.00         0\n",
            "        neptune       1.00      1.00      1.00      8228\n",
            "           nmap       0.93      0.95      0.94       313\n",
            "         normal       0.99      0.99      0.99     13422\n",
            "           perl       0.50      1.00      0.67         1\n",
            "            phf       1.00      1.00      1.00         1\n",
            "            pod       1.00      0.93      0.96        43\n",
            "      portsweep       0.99      1.00      1.00       573\n",
            "        rootkit       0.00      0.00      0.00         1\n",
            "          satan       0.99      0.94      0.96       738\n",
            "          smurf       0.98      1.00      0.99       534\n",
            "            spy       0.00      0.00      0.00         1\n",
            "       teardrop       1.00      1.00      1.00       188\n",
            "    warezclient       0.88      0.85      0.87       202\n",
            "    warezmaster       1.00      0.75      0.86         8\n",
            "\n",
            "       accuracy                           0.99     25195\n",
            "      macro avg       0.77      0.79      0.75     25195\n",
            "   weighted avg       0.99      0.99      0.99     25195\n",
            "\n"
          ]
        },
        {
          "output_type": "stream",
          "name": "stderr",
          "text": [
            "/usr/local/lib/python3.11/dist-packages/sklearn/metrics/_classification.py:1565: UndefinedMetricWarning: Precision is ill-defined and being set to 0.0 in labels with no predicted samples. Use `zero_division` parameter to control this behavior.\n",
            "  _warn_prf(average, modifier, f\"{metric.capitalize()} is\", len(result))\n",
            "/usr/local/lib/python3.11/dist-packages/sklearn/metrics/_classification.py:1565: UndefinedMetricWarning: Recall is ill-defined and being set to 0.0 in labels with no true samples. Use `zero_division` parameter to control this behavior.\n",
            "  _warn_prf(average, modifier, f\"{metric.capitalize()} is\", len(result))\n",
            "/usr/local/lib/python3.11/dist-packages/sklearn/metrics/_classification.py:1565: UndefinedMetricWarning: Precision is ill-defined and being set to 0.0 in labels with no predicted samples. Use `zero_division` parameter to control this behavior.\n",
            "  _warn_prf(average, modifier, f\"{metric.capitalize()} is\", len(result))\n",
            "/usr/local/lib/python3.11/dist-packages/sklearn/metrics/_classification.py:1565: UndefinedMetricWarning: Recall is ill-defined and being set to 0.0 in labels with no true samples. Use `zero_division` parameter to control this behavior.\n",
            "  _warn_prf(average, modifier, f\"{metric.capitalize()} is\", len(result))\n",
            "/usr/local/lib/python3.11/dist-packages/sklearn/metrics/_classification.py:1565: UndefinedMetricWarning: Precision is ill-defined and being set to 0.0 in labels with no predicted samples. Use `zero_division` parameter to control this behavior.\n",
            "  _warn_prf(average, modifier, f\"{metric.capitalize()} is\", len(result))\n",
            "/usr/local/lib/python3.11/dist-packages/sklearn/metrics/_classification.py:1565: UndefinedMetricWarning: Recall is ill-defined and being set to 0.0 in labels with no true samples. Use `zero_division` parameter to control this behavior.\n",
            "  _warn_prf(average, modifier, f\"{metric.capitalize()} is\", len(result))\n"
          ]
        }
      ]
    },
    {
      "cell_type": "markdown",
      "source": [
        "### 4. Accuracy of Logistic Regression model"
      ],
      "metadata": {
        "id": "WyN_IAnikvGv"
      }
    },
    {
      "cell_type": "code",
      "source": [
        "print(\"Accuracy of Logistic Regression model:\", accuracy_score(y_test, y_pred_lr))"
      ],
      "metadata": {
        "id": "ZxjUbed8k4PS",
        "outputId": "f4f473b8-ba10-4d47-b54f-0a7724f724fe",
        "colab": {
          "base_uri": "https://localhost:8080/"
        }
      },
      "execution_count": 75,
      "outputs": [
        {
          "output_type": "stream",
          "name": "stdout",
          "text": [
            "Accuracy of Logistic Regression model: 0.9912284183369716\n"
          ]
        }
      ]
    },
    {
      "cell_type": "markdown",
      "source": [
        "### 5. Save the LR Model"
      ],
      "metadata": {
        "_uuid": "3761744e-e2af-475a-9b34-702d4206d7fa",
        "_cell_guid": "03137ada-6336-4b46-b1c6-6acecc9b1945",
        "collapsed": false,
        "execution": {
          "iopub.status.busy": "2025-04-15T03:43:29.34418Z",
          "iopub.execute_input": "2025-04-15T03:43:29.34451Z",
          "iopub.status.idle": "2025-04-15T03:45:40.588262Z",
          "shell.execute_reply.started": "2025-04-15T03:43:29.344493Z",
          "shell.execute_reply": "2025-04-15T03:45:40.587585Z"
        },
        "jupyter": {
          "outputs_hidden": false
        },
        "id": "Cws1scIKTi6H"
      }
    },
    {
      "cell_type": "code",
      "source": [
        "joblib.dump(lr_pipeline, \"LR_Model.joblib\")"
      ],
      "metadata": {
        "_uuid": "3761744e-e2af-475a-9b34-702d4206d7fa",
        "_cell_guid": "03137ada-6336-4b46-b1c6-6acecc9b1945",
        "trusted": true,
        "execution": {
          "iopub.status.busy": "2025-04-15T04:20:23.186131Z",
          "iopub.execute_input": "2025-04-15T04:20:23.186384Z",
          "iopub.status.idle": "2025-04-15T04:20:23.194038Z",
          "shell.execute_reply.started": "2025-04-15T04:20:23.186362Z",
          "shell.execute_reply": "2025-04-15T04:20:23.193321Z"
        },
        "jupyter": {
          "outputs_hidden": false
        },
        "id": "OlEXelBATi6I",
        "outputId": "5dba10d1-e92c-4dc6-e7a4-d2da6270da49",
        "colab": {
          "base_uri": "https://localhost:8080/"
        }
      },
      "outputs": [
        {
          "output_type": "execute_result",
          "data": {
            "text/plain": [
              "['LR_Model.joblib']"
            ]
          },
          "metadata": {},
          "execution_count": 76
        }
      ],
      "execution_count": 76
    },
    {
      "cell_type": "markdown",
      "source": [
        "-------------\n",
        "\n",
        "---\n",
        "\n"
      ],
      "metadata": {
        "id": "hsPsOsZmlzoP"
      }
    },
    {
      "cell_type": "markdown",
      "source": [
        "# Train an XGBoost classifier"
      ],
      "metadata": {
        "_uuid": "daf98c23-6303-40fd-ac75-1373d7c8eb2b",
        "_cell_guid": "3f9dffb1-1538-4bdf-9bee-ccd948692002",
        "collapsed": false,
        "execution": {
          "iopub.status.busy": "2025-04-15T03:45:40.589219Z",
          "iopub.execute_input": "2025-04-15T03:45:40.589472Z",
          "iopub.status.idle": "2025-04-15T03:46:05.099548Z",
          "shell.execute_reply.started": "2025-04-15T03:45:40.589454Z",
          "shell.execute_reply": "2025-04-15T03:46:05.098785Z"
        },
        "jupyter": {
          "outputs_hidden": false
        },
        "id": "APp58gd7Ti6I"
      }
    },
    {
      "cell_type": "markdown",
      "source": [
        "### 1. Creare a XGBost Pipeline"
      ],
      "metadata": {
        "id": "U9qLCTIu34Ef"
      }
    },
    {
      "cell_type": "code",
      "source": [
        "# Encode string labels (e.g., 'normal', 'neptune', etc.) into integers\n",
        "label_encoder = LabelEncoder()\n",
        "y_train_encoded = label_encoder.fit_transform(y_train)\n",
        "\n",
        "# Create a pipeline with preprocessing and XGBoost classifier\n",
        "xgb_pipeline = Pipeline(steps=[\n",
        "    (\"preprocessor\", preprocessor),  # Applies scaling and encoding to features\n",
        "    (\"classifier\", XGBClassifier(\n",
        "        eval_metric='mlogloss',      # Metric to evaluate performance\n",
        "        random_state=42,             # For reproducibility\n",
        "        n_estimators=100,            # Number of trees\n",
        "        learning_rate=0.1,           # Step size shrinkage\n",
        "        max_depth=6,                 # Max depth of each tree\n",
        "        use_label_encoder=False      # Avoids deprecation warning in newer XGBoost versions\n",
        "    ))\n",
        "])\n",
        "\n",
        "# Train the pipeline on the encoded labels\n",
        "xgb_pipeline.fit(X_train, y_train_encoded)\n",
        "\n",
        "# Predict using the trained pipeline\n",
        "y_pred_encoded = xgb_pipeline.predict(X_test)\n",
        "\n",
        "# Convert numeric predictions back to original string labels\n",
        "y_pred_xgb = label_encoder.inverse_transform(y_pred_encoded)"
      ],
      "metadata": {
        "_uuid": "daf98c23-6303-40fd-ac75-1373d7c8eb2b",
        "_cell_guid": "3f9dffb1-1538-4bdf-9bee-ccd948692002",
        "trusted": true,
        "execution": {
          "iopub.status.busy": "2025-04-15T04:20:23.19513Z",
          "iopub.execute_input": "2025-04-15T04:20:23.195453Z",
          "iopub.status.idle": "2025-04-15T04:20:46.880008Z",
          "shell.execute_reply.started": "2025-04-15T04:20:23.195429Z",
          "shell.execute_reply": "2025-04-15T04:20:46.879259Z"
        },
        "jupyter": {
          "outputs_hidden": false
        },
        "id": "rBKFnSAJTi6I",
        "outputId": "3e86888f-ff69-4c37-f77c-e16f60e1f7e3",
        "colab": {
          "base_uri": "https://localhost:8080/"
        }
      },
      "outputs": [
        {
          "output_type": "stream",
          "name": "stderr",
          "text": [
            "/usr/local/lib/python3.11/dist-packages/xgboost/core.py:158: UserWarning: [04:36:47] WARNING: /workspace/src/learner.cc:740: \n",
            "Parameters: { \"use_label_encoder\" } are not used.\n",
            "\n",
            "  warnings.warn(smsg, UserWarning)\n"
          ]
        }
      ],
      "execution_count": 82
    },
    {
      "cell_type": "code",
      "source": [
        "print(\"\\n--- XGBoost Multi-Class Classifier ---\")\n",
        "print(\"Accuracy:\", accuracy_score(y_test, y_pred_xgb))\n",
        "print(classification_report(y_test, y_pred_xgb))"
      ],
      "metadata": {
        "id": "2AgEngj13ODm",
        "outputId": "08958b1c-e6d6-4b8f-d703-c4c2dc8fef77",
        "colab": {
          "base_uri": "https://localhost:8080/"
        }
      },
      "execution_count": 83,
      "outputs": [
        {
          "output_type": "stream",
          "name": "stdout",
          "text": [
            "\n",
            "--- XGBoost Multi-Class Classifier ---\n",
            "Accuracy: 0.9979757888469935\n",
            "                 precision    recall  f1-score   support\n",
            "\n",
            "           back       1.00      1.00      1.00       185\n",
            "buffer_overflow       1.00      0.22      0.36         9\n",
            "      ftp_write       0.00      0.00      0.00         0\n",
            "   guess_passwd       1.00      0.91      0.95        11\n",
            "           imap       0.25      1.00      0.40         1\n",
            "        ipsweep       0.99      0.99      0.99       733\n",
            "           land       0.50      0.67      0.57         3\n",
            "     loadmodule       0.00      0.00      0.00         0\n",
            "        neptune       1.00      1.00      1.00      8228\n",
            "           nmap       0.99      0.99      0.99       313\n",
            "         normal       1.00      1.00      1.00     13422\n",
            "           perl       0.50      1.00      0.67         1\n",
            "            phf       1.00      1.00      1.00         1\n",
            "            pod       1.00      0.93      0.96        43\n",
            "      portsweep       1.00      0.99      0.99       573\n",
            "        rootkit       0.00      0.00      0.00         1\n",
            "          satan       1.00      0.99      0.99       738\n",
            "          smurf       1.00      1.00      1.00       534\n",
            "            spy       0.00      0.00      0.00         1\n",
            "       teardrop       1.00      1.00      1.00       188\n",
            "    warezclient       1.00      1.00      1.00       202\n",
            "    warezmaster       1.00      0.88      0.93         8\n",
            "\n",
            "       accuracy                           1.00     25195\n",
            "      macro avg       0.74      0.75      0.72     25195\n",
            "   weighted avg       1.00      1.00      1.00     25195\n",
            "\n"
          ]
        },
        {
          "output_type": "stream",
          "name": "stderr",
          "text": [
            "/usr/local/lib/python3.11/dist-packages/sklearn/metrics/_classification.py:1565: UndefinedMetricWarning: Precision is ill-defined and being set to 0.0 in labels with no predicted samples. Use `zero_division` parameter to control this behavior.\n",
            "  _warn_prf(average, modifier, f\"{metric.capitalize()} is\", len(result))\n",
            "/usr/local/lib/python3.11/dist-packages/sklearn/metrics/_classification.py:1565: UndefinedMetricWarning: Recall is ill-defined and being set to 0.0 in labels with no true samples. Use `zero_division` parameter to control this behavior.\n",
            "  _warn_prf(average, modifier, f\"{metric.capitalize()} is\", len(result))\n",
            "/usr/local/lib/python3.11/dist-packages/sklearn/metrics/_classification.py:1565: UndefinedMetricWarning: Precision is ill-defined and being set to 0.0 in labels with no predicted samples. Use `zero_division` parameter to control this behavior.\n",
            "  _warn_prf(average, modifier, f\"{metric.capitalize()} is\", len(result))\n",
            "/usr/local/lib/python3.11/dist-packages/sklearn/metrics/_classification.py:1565: UndefinedMetricWarning: Recall is ill-defined and being set to 0.0 in labels with no true samples. Use `zero_division` parameter to control this behavior.\n",
            "  _warn_prf(average, modifier, f\"{metric.capitalize()} is\", len(result))\n",
            "/usr/local/lib/python3.11/dist-packages/sklearn/metrics/_classification.py:1565: UndefinedMetricWarning: Precision is ill-defined and being set to 0.0 in labels with no predicted samples. Use `zero_division` parameter to control this behavior.\n",
            "  _warn_prf(average, modifier, f\"{metric.capitalize()} is\", len(result))\n",
            "/usr/local/lib/python3.11/dist-packages/sklearn/metrics/_classification.py:1565: UndefinedMetricWarning: Recall is ill-defined and being set to 0.0 in labels with no true samples. Use `zero_division` parameter to control this behavior.\n",
            "  _warn_prf(average, modifier, f\"{metric.capitalize()} is\", len(result))\n"
          ]
        }
      ]
    },
    {
      "cell_type": "markdown",
      "source": [
        "### XGBoost Model Accuracy"
      ],
      "metadata": {
        "id": "h96uh9oA25m5"
      }
    },
    {
      "cell_type": "code",
      "source": [
        "print(\"Accuracy XGBoost Model Accuracy:\", accuracy_score(y_test, y_pred_xgb))"
      ],
      "metadata": {
        "id": "q-9oaPdQ22j6",
        "outputId": "d68beaa2-4774-469d-c23c-73fac16e0adc",
        "colab": {
          "base_uri": "https://localhost:8080/"
        }
      },
      "execution_count": 88,
      "outputs": [
        {
          "output_type": "stream",
          "name": "stdout",
          "text": [
            "Accuracy XGBoost Model Accuracy: 0.9979757888469935\n"
          ]
        }
      ]
    },
    {
      "cell_type": "markdown",
      "source": [
        "### Save the XGBoost Pipeline + LabelEncoder"
      ],
      "metadata": {
        "_uuid": "daf98c23-6303-40fd-ac75-1373d7c8eb2b",
        "_cell_guid": "3f9dffb1-1538-4bdf-9bee-ccd948692002",
        "collapsed": false,
        "execution": {
          "iopub.status.busy": "2025-04-15T03:45:40.589219Z",
          "iopub.execute_input": "2025-04-15T03:45:40.589472Z",
          "iopub.status.idle": "2025-04-15T03:46:05.099548Z",
          "shell.execute_reply.started": "2025-04-15T03:45:40.589454Z",
          "shell.execute_reply": "2025-04-15T03:46:05.098785Z"
        },
        "jupyter": {
          "outputs_hidden": false
        },
        "id": "Jc1s2BVdTi6N"
      }
    },
    {
      "cell_type": "code",
      "source": [
        "joblib.dump({\"model\": xgb_pipeline, \"label_encoder\": label_encoder},\"XGB_Model.joblib\")"
      ],
      "metadata": {
        "id": "qC5HxI0s4_je",
        "outputId": "30546965-182f-4b42-8e6b-4ef07af6568a",
        "colab": {
          "base_uri": "https://localhost:8080/"
        }
      },
      "execution_count": 89,
      "outputs": [
        {
          "output_type": "execute_result",
          "data": {
            "text/plain": [
              "['XGB_Model.joblib']"
            ]
          },
          "metadata": {},
          "execution_count": 89
        }
      ]
    },
    {
      "cell_type": "markdown",
      "source": [
        "\n",
        "\n",
        "---\n",
        "\n",
        "\n",
        "\n",
        "---\n",
        "\n"
      ],
      "metadata": {
        "id": "w1SmOpW062wJ"
      }
    },
    {
      "cell_type": "markdown",
      "source": [
        "# Train a LightGBM classifier"
      ],
      "metadata": {
        "_uuid": "1a174529-63c3-4a9a-8251-b306e4a5d623",
        "_cell_guid": "cede2093-e452-4018-83b5-b736bbe6edf6",
        "collapsed": false,
        "execution": {
          "iopub.status.busy": "2025-04-15T03:46:05.100516Z",
          "iopub.execute_input": "2025-04-15T03:46:05.101062Z",
          "iopub.status.idle": "2025-04-15T03:46:16.635902Z",
          "shell.execute_reply.started": "2025-04-15T03:46:05.101043Z",
          "shell.execute_reply": "2025-04-15T03:46:16.635154Z"
        },
        "jupyter": {
          "outputs_hidden": false
        },
        "id": "zJQrSmp6Ti6O"
      }
    },
    {
      "cell_type": "code",
      "source": [
        "# Create LightGBM pipeline with preprocessing and classifier\n",
        "lgbm_pipeline = Pipeline(steps=[\n",
        "    (\"preprocessor\", preprocessor),\n",
        "    (\"classifier\", LGBMClassifier(random_state=42, verbose=-1))  # verbose=-1 silences logs\n",
        "])\n",
        "\n",
        "# Train the pipeline\n",
        "lgbm_pipeline.fit(X_train, y_train)\n",
        "y_pred_lgbm = lgbm_pipeline.predict(X_test)"
      ],
      "metadata": {
        "_uuid": "1a174529-63c3-4a9a-8251-b306e4a5d623",
        "_cell_guid": "cede2093-e452-4018-83b5-b736bbe6edf6",
        "trusted": true,
        "execution": {
          "iopub.status.busy": "2025-04-15T04:20:46.917441Z",
          "iopub.execute_input": "2025-04-15T04:20:46.917648Z",
          "iopub.status.idle": "2025-04-15T04:20:58.435564Z",
          "shell.execute_reply.started": "2025-04-15T04:20:46.917633Z",
          "shell.execute_reply": "2025-04-15T04:20:58.434785Z"
        },
        "jupyter": {
          "outputs_hidden": false
        },
        "id": "jA0IFrHgTi6O",
        "outputId": "a709b9a7-0c5b-47d7-a528-e3966d1e0db0",
        "colab": {
          "base_uri": "https://localhost:8080/"
        }
      },
      "outputs": [
        {
          "output_type": "stream",
          "name": "stderr",
          "text": [
            "/usr/local/lib/python3.11/dist-packages/sklearn/utils/deprecation.py:151: FutureWarning: 'force_all_finite' was renamed to 'ensure_all_finite' in 1.6 and will be removed in 1.8.\n",
            "  warnings.warn(\n",
            "/usr/local/lib/python3.11/dist-packages/sklearn/utils/deprecation.py:151: FutureWarning: 'force_all_finite' was renamed to 'ensure_all_finite' in 1.6 and will be removed in 1.8.\n",
            "  warnings.warn(\n"
          ]
        }
      ],
      "execution_count": 91
    },
    {
      "cell_type": "markdown",
      "source": [
        "### Evaluate the model"
      ],
      "metadata": {
        "id": "P5DdiLIf6ICQ"
      }
    },
    {
      "cell_type": "code",
      "source": [
        "# Evaluate the model\n",
        "print(\"\\n--- LightGBM Multi-Class Classifier ---\")\n",
        "print(\"Accuracy:\", accuracy_score(y_test, y_pred_lgbm))\n",
        "print(classification_report(y_test, y_pred_lgbm, zero_division=0))"
      ],
      "metadata": {
        "id": "LutCwM2d6Fw4",
        "outputId": "8b335059-3dd1-40c2-a2ba-8f8f9ffedf6d",
        "colab": {
          "base_uri": "https://localhost:8080/"
        }
      },
      "execution_count": 92,
      "outputs": [
        {
          "output_type": "stream",
          "name": "stdout",
          "text": [
            "\n",
            "--- LightGBM Multi-Class Classifier ---\n",
            "Accuracy: 0.7701131176820798\n",
            "                 precision    recall  f1-score   support\n",
            "\n",
            "           back       0.00      0.00      0.00       185\n",
            "buffer_overflow       0.00      0.00      0.00         9\n",
            "      ftp_write       0.00      0.00      0.00         0\n",
            "   guess_passwd       0.00      0.00      0.00        11\n",
            "           imap       0.00      0.00      0.00         1\n",
            "        ipsweep       0.05      0.00      0.01       733\n",
            "           land       0.00      0.00      0.00         3\n",
            "     loadmodule       0.00      0.00      0.00         0\n",
            "        neptune       0.96      0.98      0.97      8228\n",
            "           nmap       0.17      0.51      0.25       313\n",
            "         normal       0.95      0.80      0.87     13422\n",
            "           perl       0.00      0.00      0.00         1\n",
            "            phf       0.00      0.00      0.00         1\n",
            "            pod       0.00      0.00      0.00        43\n",
            "      portsweep       0.68      0.09      0.16       573\n",
            "        rootkit       0.00      0.00      0.00         1\n",
            "          satan       0.05      0.13      0.07       738\n",
            "          smurf       0.00      0.00      0.00       534\n",
            "            spy       0.00      0.00      0.00         1\n",
            "       teardrop       0.27      0.63      0.38       188\n",
            "    warezclient       0.11      0.46      0.18       202\n",
            "    warezmaster       0.00      0.00      0.00         8\n",
            "\n",
            "       accuracy                           0.77     25195\n",
            "      macro avg       0.15      0.16      0.13     25195\n",
            "   weighted avg       0.84      0.77      0.79     25195\n",
            "\n"
          ]
        }
      ]
    },
    {
      "cell_type": "markdown",
      "source": [
        "### Accuracy LightGBM model"
      ],
      "metadata": {
        "id": "8udT7MB_6uzR"
      }
    },
    {
      "cell_type": "code",
      "source": [
        "print(\"Accuracy LightGBM model:\", accuracy_score(y_test, y_pred_lgbm))"
      ],
      "metadata": {
        "id": "Oaj-KBxG6j-A",
        "outputId": "d99ad72b-4520-4384-c231-215b7ea617c6",
        "colab": {
          "base_uri": "https://localhost:8080/"
        }
      },
      "execution_count": 94,
      "outputs": [
        {
          "output_type": "stream",
          "name": "stdout",
          "text": [
            "Accuracy LightGBM model: 0.7701131176820798\n"
          ]
        }
      ]
    },
    {
      "cell_type": "markdown",
      "source": [
        "# Save the LightGBM model using joblib"
      ],
      "metadata": {
        "_uuid": "1a174529-63c3-4a9a-8251-b306e4a5d623",
        "_cell_guid": "cede2093-e452-4018-83b5-b736bbe6edf6",
        "collapsed": false,
        "execution": {
          "iopub.status.busy": "2025-04-15T03:46:05.100516Z",
          "iopub.execute_input": "2025-04-15T03:46:05.101062Z",
          "iopub.status.idle": "2025-04-15T03:46:16.635902Z",
          "shell.execute_reply.started": "2025-04-15T03:46:05.101043Z",
          "shell.execute_reply": "2025-04-15T03:46:16.635154Z"
        },
        "jupyter": {
          "outputs_hidden": false
        },
        "id": "uDYyUljbTi6P"
      }
    },
    {
      "cell_type": "code",
      "source": [
        "joblib.dump(lgbm_pipeline, \"LGBM_Model.joblib\")"
      ],
      "metadata": {
        "_uuid": "1a174529-63c3-4a9a-8251-b306e4a5d623",
        "_cell_guid": "cede2093-e452-4018-83b5-b736bbe6edf6",
        "trusted": true,
        "execution": {
          "iopub.status.busy": "2025-04-15T04:20:58.436439Z",
          "iopub.execute_input": "2025-04-15T04:20:58.436652Z",
          "iopub.status.idle": "2025-04-15T04:20:58.504681Z",
          "shell.execute_reply.started": "2025-04-15T04:20:58.436635Z",
          "shell.execute_reply": "2025-04-15T04:20:58.504052Z"
        },
        "jupyter": {
          "outputs_hidden": false
        },
        "id": "zXGxjVboTi6P",
        "outputId": "98977596-af2f-47e6-93ed-25db8d3af1aa",
        "colab": {
          "base_uri": "https://localhost:8080/"
        }
      },
      "outputs": [
        {
          "output_type": "execute_result",
          "data": {
            "text/plain": [
              "['LGBM_Model.joblib']"
            ]
          },
          "metadata": {},
          "execution_count": 95
        }
      ],
      "execution_count": 95
    },
    {
      "cell_type": "markdown",
      "source": [
        "\n",
        "\n",
        "---\n",
        "\n",
        "\n",
        "\n",
        "---\n",
        "\n"
      ],
      "metadata": {
        "id": "IwRsLGxl66GM"
      }
    },
    {
      "cell_type": "code",
      "source": [
        "import os\n",
        "import joblib\n",
        "import zipfile\n",
        "import matplotlib.pyplot as plt\n",
        "from sklearn.metrics import accuracy_score, classification_report, confusion_matrix, ConfusionMatrixDisplay\n",
        "import pandas as pd\n",
        "\n",
        "# Step 1: Compare Accuracy\n",
        "accuracy_data = {\n",
        "    \"Model\": [\"Random Forest\", \"Logistic Regression\", \"XGBoost\", \"LightGBM\"],\n",
        "    \"Accuracy\": [\n",
        "        accuracy_score(y_test, y_pred_rf),\n",
        "        accuracy_score(y_test, y_pred_lr),\n",
        "        accuracy_score(y_test, y_pred_xgb),\n",
        "        accuracy_score(y_test, y_pred_lgbm)\n",
        "    ]\n",
        "}\n",
        "accuracy_df = pd.DataFrame(accuracy_data)\n",
        "print(\"\\n Model Accuracy Comparison:\\n\", accuracy_df)"
      ],
      "metadata": {
        "id": "gK4MPpWXG__Z",
        "outputId": "0e088f61-80fc-43c0-9245-3003fa1f9058",
        "colab": {
          "base_uri": "https://localhost:8080/"
        }
      },
      "execution_count": 99,
      "outputs": [
        {
          "output_type": "stream",
          "name": "stdout",
          "text": [
            "\n",
            " Model Accuracy Comparison:\n",
            "                  Model  Accuracy\n",
            "0        Random Forest  0.997936\n",
            "1  Logistic Regression  0.991228\n",
            "2              XGBoost  0.997976\n",
            "3             LightGBM  0.770113\n"
          ]
        }
      ]
    },
    {
      "cell_type": "code",
      "source": [
        "# Step 2: Plot Confusion Matrices\n",
        "model_preds = {\n",
        "    \"Random Forest\": y_pred_rf,\n",
        "    \"Logistic Regression\": y_pred_lr,\n",
        "    \"XGBoost\": y_pred_xgb,\n",
        "    \"LightGBM\": y_pred_lgbm\n",
        "}\n",
        "\n",
        "fig, axes = plt.subplots(2, 2, figsize=(16, 12))\n",
        "axes = axes.flatten()\n",
        "\n",
        "for i, (model_name, y_pred) in enumerate(model_preds.items()):\n",
        "    cm = confusion_matrix(y_test, y_pred)\n",
        "    disp = ConfusionMatrixDisplay(confusion_matrix=cm)\n",
        "    disp.plot(ax=axes[i], xticks_rotation='vertical', cmap=\"Blues\")\n",
        "    axes[i].set_title(f\"{model_name} Confusion Matrix\")\n",
        "\n",
        "plt.tight_layout()\n",
        "plt.show()\n"
      ],
      "metadata": {
        "id": "S0HNtDyrHQN6",
        "outputId": "69cc4e4b-23c4-444a-8a9b-6833844c59ed",
        "colab": {
          "base_uri": "https://localhost:8080/",
          "height": 1000
        }
      },
      "execution_count": 97,
      "outputs": [
        {
          "output_type": "display_data",
          "data": {
            "text/plain": [
              "<Figure size 1600x1200 with 8 Axes>"
            ],
            "image/png": "[encoded data removed]"
          },
          "metadata": {}
        }
      ]
    },
    {
      "cell_type": "code",
      "source": [
        "# Step 3: Save Models\n",
        "os.makedirs(\"saved_models\", exist_ok=True)\n",
        "joblib.dump(rf_pipeline, \"saved_models/RF_Model.joblib\")\n",
        "joblib.dump(lr_pipeline, \"saved_models/LR_Model.joblib\")\n",
        "joblib.dump({\"model\": xgb_pipeline, \"label_encoder\": label_encoder}, \"saved_models/XGB_Model_With_Encoder.joblib\")\n",
        "joblib.dump(lgbm_pipeline, \"saved_models/LGBM_Model.joblib\")\n",
        "\n",
        "# Step 4: Zip Folder\n",
        "zip_filename = \"model_collection.zip\"\n",
        "with zipfile.ZipFile(zip_filename, \"w\") as zipf:\n",
        "    for root, _, files in os.walk(\"saved_models\"):\n",
        "        for file in files:\n",
        "            filepath = os.path.join(root, file)\n",
        "            zipf.write(filepath, os.path.relpath(filepath, \"saved_models\"))\n",
        "\n",
        "# Step 5: Download\n",
        "from google.colab import files\n",
        "files.download(\"model_collection.zip\")\n"
      ],
      "metadata": {
        "id": "YMIGWtpBG0t_",
        "outputId": "30a102e5-9ffd-409a-da9b-72c24d8269a0",
        "colab": {
          "base_uri": "https://localhost:8080/",
          "height": 17
        }
      },
      "execution_count": 98,
      "outputs": [
        {
          "output_type": "display_data",
          "data": {
            "text/plain": [
              "<IPython.core.display.Javascript object>"
            ],
            "application/javascript": [
              "\n",
              "    async function download(id, filename, size) {\n",
              "      if (!google.colab.kernel.accessAllowed) {\n",
              "        return;\n",
              "      }\n",
              "      const div = document.createElement('div');\n",
              "      const label = document.createElement('label');\n",
              "      label.textContent = `Downloading \"${filename}\": `;\n",
              "      div.appendChild(label);\n",
              "      const progress = document.createElement('progress');\n",
              "      progress.max = size;\n",
              "      div.appendChild(progress);\n",
              "      document.body.appendChild(div);\n",
              "\n",
              "      const buffers = [];\n",
              "      let downloaded = 0;\n",
              "\n",
              "      const channel = await google.colab.kernel.comms.open(id);\n",
              "      // Send a message to notify the kernel that we're ready.\n",
              "      channel.send({})\n",
              "\n",
              "      for await (const message of channel.messages) {\n",
              "        // Send a message to notify the kernel that we're ready.\n",
              "        channel.send({})\n",
              "        if (message.buffers) {\n",
              "          for (const buffer of message.buffers) {\n",
              "            buffers.push(buffer);\n",
              "            downloaded += buffer.byteLength;\n",
              "            progress.value = downloaded;\n",
              "          }\n",
              "        }\n",
              "      }\n",
              "      const blob = new Blob(buffers, {type: 'application/binary'});\n",
              "      const a = document.createElement('a');\n",
              "      a.href = window.URL.createObjectURL(blob);\n",
              "      a.download = filename;\n",
              "      div.appendChild(a);\n",
              "      a.click();\n",
              "      div.remove();\n",
              "    }\n",
              "  "
            ]
          },
          "metadata": {}
        },
        {
          "output_type": "display_data",
          "data": {
            "text/plain": [
              "<IPython.core.display.Javascript object>"
            ],
            "application/javascript": [
              "download(\"download_f72027d6-1a91-4abe-b49d-1245a9926b5a\", \"model_collection.zip\", 37261719)"
            ]
          },
          "metadata": {}
        }
      ]
    }
  ]
}